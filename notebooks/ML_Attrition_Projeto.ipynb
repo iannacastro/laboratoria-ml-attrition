{
 "cells": [
  {
   "cell_type": "markdown",
   "id": "84342f3f",
   "metadata": {},
   "source": [
    "# Projeto de Previsão de Rotatividade de Funcionários (Attrition)\n",
    "\n",
    "Este notebook organiza scripts, análises e resultados do projeto de Machine Learning para prever a saída de funcionários."
   ]
  },
  {
   "cell_type": "markdown",
   "id": "8f9a03f4",
   "metadata": {},
   "source": [
    "## 1. Importar Bibliotecas Essenciais\n",
    "\n",
    "Nesta seção, vamos importar as principais bibliotecas para análise e modelagem de dados em Python."
   ]
  },
  {
   "cell_type": "code",
   "execution_count": null,
   "id": "101f79d6",
   "metadata": {},
   "outputs": [],
   "source": [
    "import numpy as np\n",
    "import pandas as pd\n",
    "import matplotlib.pyplot as plt\n",
    "import seaborn as sns"
   ]
  },
  {
   "cell_type": "markdown",
   "id": "16fb3531",
   "metadata": {},
   "source": [
    "## 2. Criar e Executar Células de Código\n",
    "\n",
    "Abaixo, um exemplo de célula de código Python que pode ser executada diretamente no notebook."
   ]
  },
  {
   "cell_type": "code",
   "execution_count": null,
   "id": "c0305b9a",
   "metadata": {},
   "outputs": [],
   "source": [
    "# Exemplo de código Python\n",
    "print(\"Olá, Jupyter Notebook!\")"
   ]
  },
  {
   "cell_type": "markdown",
   "id": "f7594b0d",
   "metadata": {},
   "source": [
    "## 3. Exibir Resultados no Notebook\n",
    "\n",
    "Você pode visualizar tabelas, gráficos e saídas diretamente abaixo das células de código."
   ]
  },
  {
   "cell_type": "code",
   "execution_count": null,
   "id": "253ce569",
   "metadata": {},
   "outputs": [],
   "source": [
    "# Exemplo de visualização de dados\n",
    "df = pd.DataFrame({'A': [1, 2, 3], 'B': [4, 5, 6]})\n",
    "df"
   ]
  },
  {
   "cell_type": "markdown",
   "id": "f47dc159",
   "metadata": {},
   "source": [
    "## 4. Salvar e Compartilhar o Notebook\n",
    "\n",
    "Para salvar seu notebook, clique em \"File > Save\" ou use Ctrl+S. Para compartilhar, exporte em PDF ou HTML pelo menu \"File > Export As\"."
   ]
  }
 ],
 "metadata": {
  "language_info": {
   "name": "python"
  }
 },
 "nbformat": 4,
 "nbformat_minor": 5
}
