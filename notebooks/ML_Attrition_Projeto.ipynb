{
 "cells": [
  {
   "cell_type": "markdown",
   "id": "84342f3f",
   "metadata": {},
   "source": [
    "# Projeto de Previsão de Rotatividade de Funcionários (Attrition)\n",
    "\n",
    "Este notebook organiza scripts, análises e resultados do projeto de Machine Learning para prever a saída de funcionários."
   ]
  },
  {
   "cell_type": "markdown",
   "id": "8f9a03f4",
   "metadata": {},
   "source": [
    "## 1. Importar Bibliotecas\n",
    "\n",
    "Nesta seção, vamos importar as principais bibliotecas para análise e modelagem de dados em Python."
   ]
  },
  {
   "cell_type": "code",
   "execution_count": 106,
   "id": "59489a32",
   "metadata": {},
   "outputs": [],
   "source": [
    "import numpy as np\n",
    "import pandas as pd\n",
    "import matplotlib.pyplot as plt\n",
    "import seaborn as sns\n",
    "from sklearn.preprocessing import LabelEncoder\n",
    "from sklearn.model_selection import train_test_split"
   ]
  },
  {
   "cell_type": "markdown",
   "id": "e49c4773",
   "metadata": {},
   "source": [
    "## 2. Importar os arquivos no notebook"
   ]
  },
  {
   "cell_type": "code",
   "execution_count": 107,
   "id": "cfeb87fb",
   "metadata": {},
   "outputs": [],
   "source": [
    "df = pd.read_csv(\"../data/raw/rh_data.csv\")"
   ]
  },
  {
   "cell_type": "markdown",
   "id": "222ecfb2",
   "metadata": {},
   "source": [
    "### 2.1. Checando informações no DataFrame"
   ]
  },
  {
   "cell_type": "code",
   "execution_count": 108,
   "id": "b2aa9b96",
   "metadata": {},
   "outputs": [
    {
     "name": "stdout",
     "output_type": "stream",
     "text": [
      "Formato da base: (4410, 24)\n"
     ]
    }
   ],
   "source": [
    "print(\"Formato da base:\", df.shape)"
   ]
  },
  {
   "cell_type": "code",
   "execution_count": 109,
   "id": "a1ccac5a",
   "metadata": {},
   "outputs": [
    {
     "name": "stdout",
     "output_type": "stream",
     "text": [
      "<class 'pandas.core.frame.DataFrame'>\n",
      "RangeIndex: 4410 entries, 0 to 4409\n",
      "Data columns (total 24 columns):\n",
      " #   Column                   Non-Null Count  Dtype  \n",
      "---  ------                   --------------  -----  \n",
      " 0   Age                      4410 non-null   int64  \n",
      " 1   Attrition                4410 non-null   object \n",
      " 2   BusinessTravel           4410 non-null   object \n",
      " 3   Department               4410 non-null   object \n",
      " 4   DistanceFromHome         4410 non-null   int64  \n",
      " 5   Education                4410 non-null   int64  \n",
      " 6   EducationField           4410 non-null   object \n",
      " 7   EmployeeCount            4410 non-null   int64  \n",
      " 8   EmployeeID               4410 non-null   int64  \n",
      " 9   Gender                   4410 non-null   object \n",
      " 10  JobLevel                 4410 non-null   int64  \n",
      " 11  JobRole                  4410 non-null   object \n",
      " 12  MaritalStatus            4410 non-null   object \n",
      " 13  MonthlyIncome            4410 non-null   int64  \n",
      " 14  NumCompaniesWorked       4391 non-null   float64\n",
      " 15  Over18                   4410 non-null   object \n",
      " 16  PercentSalaryHike        4410 non-null   int64  \n",
      " 17  StandardHours            4410 non-null   int64  \n",
      " 18  StockOptionLevel         4410 non-null   int64  \n",
      " 19  TotalWorkingYears        4401 non-null   float64\n",
      " 20  TrainingTimesLastYear    4410 non-null   int64  \n",
      " 21  YearsAtCompany           4410 non-null   int64  \n",
      " 22  YearsSinceLastPromotion  4410 non-null   int64  \n",
      " 23  YearsWithCurrManager     4410 non-null   int64  \n",
      "dtypes: float64(2), int64(14), object(8)\n",
      "memory usage: 827.0+ KB\n"
     ]
    }
   ],
   "source": [
    "pd.set_option(\"display.max_rows\", None)\n",
    "\n",
    "df.info()"
   ]
  },
  {
   "cell_type": "code",
   "execution_count": 110,
   "id": "949738a3",
   "metadata": {},
   "outputs": [
    {
     "data": {
      "text/html": [
       "<div>\n",
       "<style scoped>\n",
       "    .dataframe tbody tr th:only-of-type {\n",
       "        vertical-align: middle;\n",
       "    }\n",
       "\n",
       "    .dataframe tbody tr th {\n",
       "        vertical-align: top;\n",
       "    }\n",
       "\n",
       "    .dataframe thead th {\n",
       "        text-align: right;\n",
       "    }\n",
       "</style>\n",
       "<table border=\"1\" class=\"dataframe\">\n",
       "  <thead>\n",
       "    <tr style=\"text-align: right;\">\n",
       "      <th></th>\n",
       "      <th>Age</th>\n",
       "      <th>Attrition</th>\n",
       "      <th>BusinessTravel</th>\n",
       "      <th>Department</th>\n",
       "      <th>DistanceFromHome</th>\n",
       "      <th>Education</th>\n",
       "      <th>EducationField</th>\n",
       "      <th>EmployeeCount</th>\n",
       "      <th>EmployeeID</th>\n",
       "      <th>Gender</th>\n",
       "      <th>...</th>\n",
       "      <th>NumCompaniesWorked</th>\n",
       "      <th>Over18</th>\n",
       "      <th>PercentSalaryHike</th>\n",
       "      <th>StandardHours</th>\n",
       "      <th>StockOptionLevel</th>\n",
       "      <th>TotalWorkingYears</th>\n",
       "      <th>TrainingTimesLastYear</th>\n",
       "      <th>YearsAtCompany</th>\n",
       "      <th>YearsSinceLastPromotion</th>\n",
       "      <th>YearsWithCurrManager</th>\n",
       "    </tr>\n",
       "  </thead>\n",
       "  <tbody>\n",
       "    <tr>\n",
       "      <th>0</th>\n",
       "      <td>51</td>\n",
       "      <td>No</td>\n",
       "      <td>Travel_Rarely</td>\n",
       "      <td>Sales</td>\n",
       "      <td>6</td>\n",
       "      <td>2</td>\n",
       "      <td>Life Sciences</td>\n",
       "      <td>1</td>\n",
       "      <td>1</td>\n",
       "      <td>Female</td>\n",
       "      <td>...</td>\n",
       "      <td>1.0</td>\n",
       "      <td>Y</td>\n",
       "      <td>11</td>\n",
       "      <td>8</td>\n",
       "      <td>0</td>\n",
       "      <td>1.0</td>\n",
       "      <td>6</td>\n",
       "      <td>1</td>\n",
       "      <td>0</td>\n",
       "      <td>0</td>\n",
       "    </tr>\n",
       "    <tr>\n",
       "      <th>1</th>\n",
       "      <td>31</td>\n",
       "      <td>Yes</td>\n",
       "      <td>Travel_Frequently</td>\n",
       "      <td>Research &amp; Development</td>\n",
       "      <td>10</td>\n",
       "      <td>1</td>\n",
       "      <td>Life Sciences</td>\n",
       "      <td>1</td>\n",
       "      <td>2</td>\n",
       "      <td>Female</td>\n",
       "      <td>...</td>\n",
       "      <td>0.0</td>\n",
       "      <td>Y</td>\n",
       "      <td>23</td>\n",
       "      <td>8</td>\n",
       "      <td>1</td>\n",
       "      <td>6.0</td>\n",
       "      <td>3</td>\n",
       "      <td>5</td>\n",
       "      <td>1</td>\n",
       "      <td>4</td>\n",
       "    </tr>\n",
       "    <tr>\n",
       "      <th>2</th>\n",
       "      <td>32</td>\n",
       "      <td>No</td>\n",
       "      <td>Travel_Frequently</td>\n",
       "      <td>Research &amp; Development</td>\n",
       "      <td>17</td>\n",
       "      <td>4</td>\n",
       "      <td>Other</td>\n",
       "      <td>1</td>\n",
       "      <td>3</td>\n",
       "      <td>Male</td>\n",
       "      <td>...</td>\n",
       "      <td>1.0</td>\n",
       "      <td>Y</td>\n",
       "      <td>15</td>\n",
       "      <td>8</td>\n",
       "      <td>3</td>\n",
       "      <td>5.0</td>\n",
       "      <td>2</td>\n",
       "      <td>5</td>\n",
       "      <td>0</td>\n",
       "      <td>3</td>\n",
       "    </tr>\n",
       "    <tr>\n",
       "      <th>3</th>\n",
       "      <td>38</td>\n",
       "      <td>No</td>\n",
       "      <td>Non-Travel</td>\n",
       "      <td>Research &amp; Development</td>\n",
       "      <td>2</td>\n",
       "      <td>5</td>\n",
       "      <td>Life Sciences</td>\n",
       "      <td>1</td>\n",
       "      <td>4</td>\n",
       "      <td>Male</td>\n",
       "      <td>...</td>\n",
       "      <td>3.0</td>\n",
       "      <td>Y</td>\n",
       "      <td>11</td>\n",
       "      <td>8</td>\n",
       "      <td>3</td>\n",
       "      <td>13.0</td>\n",
       "      <td>5</td>\n",
       "      <td>8</td>\n",
       "      <td>7</td>\n",
       "      <td>5</td>\n",
       "    </tr>\n",
       "    <tr>\n",
       "      <th>4</th>\n",
       "      <td>32</td>\n",
       "      <td>No</td>\n",
       "      <td>Travel_Rarely</td>\n",
       "      <td>Research &amp; Development</td>\n",
       "      <td>10</td>\n",
       "      <td>1</td>\n",
       "      <td>Medical</td>\n",
       "      <td>1</td>\n",
       "      <td>5</td>\n",
       "      <td>Male</td>\n",
       "      <td>...</td>\n",
       "      <td>4.0</td>\n",
       "      <td>Y</td>\n",
       "      <td>12</td>\n",
       "      <td>8</td>\n",
       "      <td>2</td>\n",
       "      <td>9.0</td>\n",
       "      <td>2</td>\n",
       "      <td>6</td>\n",
       "      <td>0</td>\n",
       "      <td>4</td>\n",
       "    </tr>\n",
       "  </tbody>\n",
       "</table>\n",
       "<p>5 rows × 24 columns</p>\n",
       "</div>"
      ],
      "text/plain": [
       "   Age Attrition     BusinessTravel              Department  DistanceFromHome  \\\n",
       "0   51        No      Travel_Rarely                   Sales                 6   \n",
       "1   31       Yes  Travel_Frequently  Research & Development                10   \n",
       "2   32        No  Travel_Frequently  Research & Development                17   \n",
       "3   38        No         Non-Travel  Research & Development                 2   \n",
       "4   32        No      Travel_Rarely  Research & Development                10   \n",
       "\n",
       "   Education EducationField  EmployeeCount  EmployeeID  Gender  ...  \\\n",
       "0          2  Life Sciences              1           1  Female  ...   \n",
       "1          1  Life Sciences              1           2  Female  ...   \n",
       "2          4          Other              1           3    Male  ...   \n",
       "3          5  Life Sciences              1           4    Male  ...   \n",
       "4          1        Medical              1           5    Male  ...   \n",
       "\n",
       "   NumCompaniesWorked Over18 PercentSalaryHike  StandardHours  \\\n",
       "0                 1.0      Y                11              8   \n",
       "1                 0.0      Y                23              8   \n",
       "2                 1.0      Y                15              8   \n",
       "3                 3.0      Y                11              8   \n",
       "4                 4.0      Y                12              8   \n",
       "\n",
       "   StockOptionLevel TotalWorkingYears  TrainingTimesLastYear  YearsAtCompany  \\\n",
       "0                 0               1.0                      6               1   \n",
       "1                 1               6.0                      3               5   \n",
       "2                 3               5.0                      2               5   \n",
       "3                 3              13.0                      5               8   \n",
       "4                 2               9.0                      2               6   \n",
       "\n",
       "   YearsSinceLastPromotion  YearsWithCurrManager  \n",
       "0                        0                     0  \n",
       "1                        1                     4  \n",
       "2                        0                     3  \n",
       "3                        7                     5  \n",
       "4                        0                     4  \n",
       "\n",
       "[5 rows x 24 columns]"
      ]
     },
     "execution_count": 110,
     "metadata": {},
     "output_type": "execute_result"
    }
   ],
   "source": [
    "df.head()"
   ]
  },
  {
   "cell_type": "code",
   "execution_count": 111,
   "id": "d4457f70",
   "metadata": {},
   "outputs": [
    {
     "data": {
      "text/html": [
       "<div>\n",
       "<style scoped>\n",
       "    .dataframe tbody tr th:only-of-type {\n",
       "        vertical-align: middle;\n",
       "    }\n",
       "\n",
       "    .dataframe tbody tr th {\n",
       "        vertical-align: top;\n",
       "    }\n",
       "\n",
       "    .dataframe thead th {\n",
       "        text-align: right;\n",
       "    }\n",
       "</style>\n",
       "<table border=\"1\" class=\"dataframe\">\n",
       "  <thead>\n",
       "    <tr style=\"text-align: right;\">\n",
       "      <th></th>\n",
       "      <th>Age</th>\n",
       "      <th>DistanceFromHome</th>\n",
       "      <th>Education</th>\n",
       "      <th>EmployeeCount</th>\n",
       "      <th>EmployeeID</th>\n",
       "      <th>JobLevel</th>\n",
       "      <th>MonthlyIncome</th>\n",
       "      <th>NumCompaniesWorked</th>\n",
       "      <th>PercentSalaryHike</th>\n",
       "      <th>StandardHours</th>\n",
       "      <th>StockOptionLevel</th>\n",
       "      <th>TotalWorkingYears</th>\n",
       "      <th>TrainingTimesLastYear</th>\n",
       "      <th>YearsAtCompany</th>\n",
       "      <th>YearsSinceLastPromotion</th>\n",
       "      <th>YearsWithCurrManager</th>\n",
       "    </tr>\n",
       "  </thead>\n",
       "  <tbody>\n",
       "    <tr>\n",
       "      <th>count</th>\n",
       "      <td>4410.000000</td>\n",
       "      <td>4410.000000</td>\n",
       "      <td>4410.000000</td>\n",
       "      <td>4410.0</td>\n",
       "      <td>4410.000000</td>\n",
       "      <td>4410.000000</td>\n",
       "      <td>4410.000000</td>\n",
       "      <td>4391.000000</td>\n",
       "      <td>4410.000000</td>\n",
       "      <td>4410.0</td>\n",
       "      <td>4410.000000</td>\n",
       "      <td>4401.000000</td>\n",
       "      <td>4410.000000</td>\n",
       "      <td>4410.000000</td>\n",
       "      <td>4410.000000</td>\n",
       "      <td>4410.000000</td>\n",
       "    </tr>\n",
       "    <tr>\n",
       "      <th>mean</th>\n",
       "      <td>36.923810</td>\n",
       "      <td>9.192517</td>\n",
       "      <td>2.912925</td>\n",
       "      <td>1.0</td>\n",
       "      <td>2205.500000</td>\n",
       "      <td>2.063946</td>\n",
       "      <td>65029.312925</td>\n",
       "      <td>2.694830</td>\n",
       "      <td>15.209524</td>\n",
       "      <td>8.0</td>\n",
       "      <td>0.793878</td>\n",
       "      <td>11.279936</td>\n",
       "      <td>2.799320</td>\n",
       "      <td>7.008163</td>\n",
       "      <td>2.187755</td>\n",
       "      <td>4.123129</td>\n",
       "    </tr>\n",
       "    <tr>\n",
       "      <th>std</th>\n",
       "      <td>9.133301</td>\n",
       "      <td>8.105026</td>\n",
       "      <td>1.023933</td>\n",
       "      <td>0.0</td>\n",
       "      <td>1273.201673</td>\n",
       "      <td>1.106689</td>\n",
       "      <td>47068.888559</td>\n",
       "      <td>2.498887</td>\n",
       "      <td>3.659108</td>\n",
       "      <td>0.0</td>\n",
       "      <td>0.851883</td>\n",
       "      <td>7.782222</td>\n",
       "      <td>1.288978</td>\n",
       "      <td>6.125135</td>\n",
       "      <td>3.221699</td>\n",
       "      <td>3.567327</td>\n",
       "    </tr>\n",
       "    <tr>\n",
       "      <th>min</th>\n",
       "      <td>18.000000</td>\n",
       "      <td>1.000000</td>\n",
       "      <td>1.000000</td>\n",
       "      <td>1.0</td>\n",
       "      <td>1.000000</td>\n",
       "      <td>1.000000</td>\n",
       "      <td>10090.000000</td>\n",
       "      <td>0.000000</td>\n",
       "      <td>11.000000</td>\n",
       "      <td>8.0</td>\n",
       "      <td>0.000000</td>\n",
       "      <td>0.000000</td>\n",
       "      <td>0.000000</td>\n",
       "      <td>0.000000</td>\n",
       "      <td>0.000000</td>\n",
       "      <td>0.000000</td>\n",
       "    </tr>\n",
       "    <tr>\n",
       "      <th>25%</th>\n",
       "      <td>30.000000</td>\n",
       "      <td>2.000000</td>\n",
       "      <td>2.000000</td>\n",
       "      <td>1.0</td>\n",
       "      <td>1103.250000</td>\n",
       "      <td>1.000000</td>\n",
       "      <td>29110.000000</td>\n",
       "      <td>1.000000</td>\n",
       "      <td>12.000000</td>\n",
       "      <td>8.0</td>\n",
       "      <td>0.000000</td>\n",
       "      <td>6.000000</td>\n",
       "      <td>2.000000</td>\n",
       "      <td>3.000000</td>\n",
       "      <td>0.000000</td>\n",
       "      <td>2.000000</td>\n",
       "    </tr>\n",
       "    <tr>\n",
       "      <th>50%</th>\n",
       "      <td>36.000000</td>\n",
       "      <td>7.000000</td>\n",
       "      <td>3.000000</td>\n",
       "      <td>1.0</td>\n",
       "      <td>2205.500000</td>\n",
       "      <td>2.000000</td>\n",
       "      <td>49190.000000</td>\n",
       "      <td>2.000000</td>\n",
       "      <td>14.000000</td>\n",
       "      <td>8.0</td>\n",
       "      <td>1.000000</td>\n",
       "      <td>10.000000</td>\n",
       "      <td>3.000000</td>\n",
       "      <td>5.000000</td>\n",
       "      <td>1.000000</td>\n",
       "      <td>3.000000</td>\n",
       "    </tr>\n",
       "    <tr>\n",
       "      <th>75%</th>\n",
       "      <td>43.000000</td>\n",
       "      <td>14.000000</td>\n",
       "      <td>4.000000</td>\n",
       "      <td>1.0</td>\n",
       "      <td>3307.750000</td>\n",
       "      <td>3.000000</td>\n",
       "      <td>83800.000000</td>\n",
       "      <td>4.000000</td>\n",
       "      <td>18.000000</td>\n",
       "      <td>8.0</td>\n",
       "      <td>1.000000</td>\n",
       "      <td>15.000000</td>\n",
       "      <td>3.000000</td>\n",
       "      <td>9.000000</td>\n",
       "      <td>3.000000</td>\n",
       "      <td>7.000000</td>\n",
       "    </tr>\n",
       "    <tr>\n",
       "      <th>max</th>\n",
       "      <td>60.000000</td>\n",
       "      <td>29.000000</td>\n",
       "      <td>5.000000</td>\n",
       "      <td>1.0</td>\n",
       "      <td>4410.000000</td>\n",
       "      <td>5.000000</td>\n",
       "      <td>199990.000000</td>\n",
       "      <td>9.000000</td>\n",
       "      <td>25.000000</td>\n",
       "      <td>8.0</td>\n",
       "      <td>3.000000</td>\n",
       "      <td>40.000000</td>\n",
       "      <td>6.000000</td>\n",
       "      <td>40.000000</td>\n",
       "      <td>15.000000</td>\n",
       "      <td>17.000000</td>\n",
       "    </tr>\n",
       "  </tbody>\n",
       "</table>\n",
       "</div>"
      ],
      "text/plain": [
       "               Age  DistanceFromHome    Education  EmployeeCount   EmployeeID  \\\n",
       "count  4410.000000       4410.000000  4410.000000         4410.0  4410.000000   \n",
       "mean     36.923810          9.192517     2.912925            1.0  2205.500000   \n",
       "std       9.133301          8.105026     1.023933            0.0  1273.201673   \n",
       "min      18.000000          1.000000     1.000000            1.0     1.000000   \n",
       "25%      30.000000          2.000000     2.000000            1.0  1103.250000   \n",
       "50%      36.000000          7.000000     3.000000            1.0  2205.500000   \n",
       "75%      43.000000         14.000000     4.000000            1.0  3307.750000   \n",
       "max      60.000000         29.000000     5.000000            1.0  4410.000000   \n",
       "\n",
       "          JobLevel  MonthlyIncome  NumCompaniesWorked  PercentSalaryHike  \\\n",
       "count  4410.000000    4410.000000         4391.000000        4410.000000   \n",
       "mean      2.063946   65029.312925            2.694830          15.209524   \n",
       "std       1.106689   47068.888559            2.498887           3.659108   \n",
       "min       1.000000   10090.000000            0.000000          11.000000   \n",
       "25%       1.000000   29110.000000            1.000000          12.000000   \n",
       "50%       2.000000   49190.000000            2.000000          14.000000   \n",
       "75%       3.000000   83800.000000            4.000000          18.000000   \n",
       "max       5.000000  199990.000000            9.000000          25.000000   \n",
       "\n",
       "       StandardHours  StockOptionLevel  TotalWorkingYears  \\\n",
       "count         4410.0       4410.000000        4401.000000   \n",
       "mean             8.0          0.793878          11.279936   \n",
       "std              0.0          0.851883           7.782222   \n",
       "min              8.0          0.000000           0.000000   \n",
       "25%              8.0          0.000000           6.000000   \n",
       "50%              8.0          1.000000          10.000000   \n",
       "75%              8.0          1.000000          15.000000   \n",
       "max              8.0          3.000000          40.000000   \n",
       "\n",
       "       TrainingTimesLastYear  YearsAtCompany  YearsSinceLastPromotion  \\\n",
       "count            4410.000000     4410.000000              4410.000000   \n",
       "mean                2.799320        7.008163                 2.187755   \n",
       "std                 1.288978        6.125135                 3.221699   \n",
       "min                 0.000000        0.000000                 0.000000   \n",
       "25%                 2.000000        3.000000                 0.000000   \n",
       "50%                 3.000000        5.000000                 1.000000   \n",
       "75%                 3.000000        9.000000                 3.000000   \n",
       "max                 6.000000       40.000000                15.000000   \n",
       "\n",
       "       YearsWithCurrManager  \n",
       "count           4410.000000  \n",
       "mean               4.123129  \n",
       "std                3.567327  \n",
       "min                0.000000  \n",
       "25%                2.000000  \n",
       "50%                3.000000  \n",
       "75%                7.000000  \n",
       "max               17.000000  "
      ]
     },
     "execution_count": 111,
     "metadata": {},
     "output_type": "execute_result"
    }
   ],
   "source": [
    "df.describe()"
   ]
  },
  {
   "cell_type": "markdown",
   "id": "5a1eb3b2",
   "metadata": {},
   "source": [
    "## 3. Limpar dados"
   ]
  },
  {
   "cell_type": "markdown",
   "id": "a2fef72d",
   "metadata": {},
   "source": [
    "### 3.1. Identificar valores nulos"
   ]
  },
  {
   "cell_type": "code",
   "execution_count": 112,
   "id": "54d846c5",
   "metadata": {},
   "outputs": [
    {
     "name": "stdout",
     "output_type": "stream",
     "text": [
      "Age                         0\n",
      "Attrition                   0\n",
      "BusinessTravel              0\n",
      "Department                  0\n",
      "DistanceFromHome            0\n",
      "Education                   0\n",
      "EducationField              0\n",
      "EmployeeCount               0\n",
      "EmployeeID                  0\n",
      "Gender                      0\n",
      "JobLevel                    0\n",
      "JobRole                     0\n",
      "MaritalStatus               0\n",
      "MonthlyIncome               0\n",
      "NumCompaniesWorked         19\n",
      "Over18                      0\n",
      "PercentSalaryHike           0\n",
      "StandardHours               0\n",
      "StockOptionLevel            0\n",
      "TotalWorkingYears           9\n",
      "TrainingTimesLastYear       0\n",
      "YearsAtCompany              0\n",
      "YearsSinceLastPromotion     0\n",
      "YearsWithCurrManager        0\n",
      "dtype: int64\n",
      "Age                        0.000000\n",
      "Attrition                  0.000000\n",
      "BusinessTravel             0.000000\n",
      "Department                 0.000000\n",
      "DistanceFromHome           0.000000\n",
      "Education                  0.000000\n",
      "EducationField             0.000000\n",
      "EmployeeCount              0.000000\n",
      "EmployeeID                 0.000000\n",
      "Gender                     0.000000\n",
      "JobLevel                   0.000000\n",
      "JobRole                    0.000000\n",
      "MaritalStatus              0.000000\n",
      "MonthlyIncome              0.000000\n",
      "NumCompaniesWorked         0.430839\n",
      "Over18                     0.000000\n",
      "PercentSalaryHike          0.000000\n",
      "StandardHours              0.000000\n",
      "StockOptionLevel           0.000000\n",
      "TotalWorkingYears          0.204082\n",
      "TrainingTimesLastYear      0.000000\n",
      "YearsAtCompany             0.000000\n",
      "YearsSinceLastPromotion    0.000000\n",
      "YearsWithCurrManager       0.000000\n",
      "dtype: float64\n"
     ]
    }
   ],
   "source": [
    "# Ver quantidade de valores nulos por coluna\n",
    "print(df.isnull().sum())\n",
    "\n",
    "# Ver proporção (% de nulos)\n",
    "print(df.isnull().mean() * 100)"
   ]
  },
  {
   "cell_type": "markdown",
   "id": "7f682615",
   "metadata": {},
   "source": [
    "Na variável NumCompaniesWorked eles serão substituídos por 1, visto que só sabemos que eles trabalham nessa empresa atualmente. \n",
    "\n",
    "* Nesse momento também haverá a substituição de valores 0 por 1. "
   ]
  },
  {
   "cell_type": "code",
   "execution_count": 113,
   "id": "830d53ce",
   "metadata": {},
   "outputs": [],
   "source": [
    "df['NumCompaniesWorked'] = df['NumCompaniesWorked'].fillna(1)"
   ]
  },
  {
   "cell_type": "code",
   "execution_count": 114,
   "id": "403046ac",
   "metadata": {},
   "outputs": [],
   "source": [
    "df.loc[df['NumCompaniesWorked'] == 0, 'NumCompaniesWorked'] = 1\n"
   ]
  },
  {
   "cell_type": "markdown",
   "id": "147789c6",
   "metadata": {},
   "source": [
    "Na variável TotalWorkingYears será substituído pelo mesmo valor em YearsAtCompany, já que sabemos a quanto tempo o funcionário está na empresa. "
   ]
  },
  {
   "cell_type": "code",
   "execution_count": 115,
   "id": "86efa121",
   "metadata": {},
   "outputs": [],
   "source": [
    "df[\"TotalWorkingYears\"] = np.where(\n",
    "    df[\"TotalWorkingYears\"].isnull(), \n",
    "    df[\"YearsAtCompany\"], \n",
    "    df[\"TotalWorkingYears\"]\n",
    ")"
   ]
  },
  {
   "cell_type": "code",
   "execution_count": 116,
   "id": "7d82aebc",
   "metadata": {},
   "outputs": [
    {
     "name": "stdout",
     "output_type": "stream",
     "text": [
      "Age                        0\n",
      "Attrition                  0\n",
      "BusinessTravel             0\n",
      "Department                 0\n",
      "DistanceFromHome           0\n",
      "Education                  0\n",
      "EducationField             0\n",
      "EmployeeCount              0\n",
      "EmployeeID                 0\n",
      "Gender                     0\n",
      "JobLevel                   0\n",
      "JobRole                    0\n",
      "MaritalStatus              0\n",
      "MonthlyIncome              0\n",
      "NumCompaniesWorked         0\n",
      "Over18                     0\n",
      "PercentSalaryHike          0\n",
      "StandardHours              0\n",
      "StockOptionLevel           0\n",
      "TotalWorkingYears          0\n",
      "TrainingTimesLastYear      0\n",
      "YearsAtCompany             0\n",
      "YearsSinceLastPromotion    0\n",
      "YearsWithCurrManager       0\n",
      "dtype: int64\n"
     ]
    }
   ],
   "source": [
    "print(df.isnull().sum())"
   ]
  },
  {
   "cell_type": "markdown",
   "id": "ffeeda51",
   "metadata": {},
   "source": [
    "### 3.2. Remover duplicados"
   ]
  },
  {
   "cell_type": "code",
   "execution_count": 117,
   "id": "df998823",
   "metadata": {},
   "outputs": [
    {
     "name": "stdout",
     "output_type": "stream",
     "text": [
      "Empty DataFrame\n",
      "Columns: [Age, Attrition, BusinessTravel, Department, DistanceFromHome, Education, EducationField, EmployeeCount, EmployeeID, Gender, JobLevel, JobRole, MaritalStatus, MonthlyIncome, NumCompaniesWorked, Over18, PercentSalaryHike, StandardHours, StockOptionLevel, TotalWorkingYears, TrainingTimesLastYear, YearsAtCompany, YearsSinceLastPromotion, YearsWithCurrManager]\n",
      "Index: []\n",
      "\n",
      "[0 rows x 24 columns]\n"
     ]
    }
   ],
   "source": [
    "duplicados = df[df.duplicated(keep='first')]\n",
    "print(duplicados)"
   ]
  },
  {
   "cell_type": "code",
   "execution_count": 118,
   "id": "5e695a97",
   "metadata": {},
   "outputs": [],
   "source": [
    "df.drop_duplicates(keep='first', inplace=True) "
   ]
  },
  {
   "cell_type": "markdown",
   "id": "66700de3",
   "metadata": {},
   "source": [
    "### 3.3. Identificar a variável resposta"
   ]
  },
  {
   "cell_type": "markdown",
   "id": "01b1c7ee",
   "metadata": {},
   "source": [
    "A variável resposta \"attrition\" está no formato de texto (\"Yes\" e \"No\"), será necessário transformá-la em valores numéricos antes de treinar o modelo. Eles serão separados para não transformar junto com outras variáveis. "
   ]
  },
  {
   "cell_type": "code",
   "execution_count": 119,
   "id": "6f129a80",
   "metadata": {},
   "outputs": [],
   "source": [
    "y = df[\"Attrition\"].map({\"Yes\": 1, \"No\": 0})\n",
    "X = df.drop(columns=[\"Attrition\"])\n",
    "\n",
    "X = X.reset_index(drop=True)\n",
    "y = y.reset_index(drop=True)"
   ]
  },
  {
   "cell_type": "markdown",
   "id": "60f0ab3c",
   "metadata": {},
   "source": [
    "### 3.4. Transformar variáveis categóricas (Label Encoding)"
   ]
  },
  {
   "cell_type": "code",
   "execution_count": 120,
   "id": "e89f5c40",
   "metadata": {},
   "outputs": [
    {
     "name": "stdout",
     "output_type": "stream",
     "text": [
      "Colunas categóricas: Index(['BusinessTravel', 'Department', 'EducationField', 'Gender', 'JobRole',\n",
      "       'MaritalStatus', 'Over18'],\n",
      "      dtype='object')\n"
     ]
    }
   ],
   "source": [
    "# Identificar colunas categóricas\n",
    "cat_cols = X.select_dtypes(include=\"object\").columns\n",
    "print(\"Colunas categóricas:\", cat_cols)\n",
    "\n",
    "le = LabelEncoder()\n",
    "\n",
    "# Aplicar LabelEncoder em cada coluna categórica\n",
    "for col in cat_cols:\n",
    "    X[col] = le.fit_transform(X[col])"
   ]
  },
  {
   "cell_type": "markdown",
   "id": "348f6a30",
   "metadata": {},
   "source": [
    "### 3.5. Rejuntar X e Y"
   ]
  },
  {
   "cell_type": "code",
   "execution_count": 121,
   "id": "2496864f",
   "metadata": {},
   "outputs": [],
   "source": [
    "df_clean = pd.concat([X, y], axis=1)"
   ]
  },
  {
   "cell_type": "markdown",
   "id": "bfcb64d7",
   "metadata": {},
   "source": [
    "### 3.6. Identificar e gerenciar dados fora do escopo da análise"
   ]
  },
  {
   "cell_type": "code",
   "execution_count": 122,
   "id": "e808ffea",
   "metadata": {},
   "outputs": [
    {
     "name": "stdout",
     "output_type": "stream",
     "text": [
      "Coluna EmployeeCount é constante e pode ser removida.\n",
      "Coluna Over18 é constante e pode ser removida.\n",
      "Coluna StandardHours é constante e pode ser removida.\n"
     ]
    }
   ],
   "source": [
    "# Verificar colunas com um único valor\n",
    "for col in df.columns:\n",
    "    if df[col].nunique() == 1:\n",
    "        print(f\"Coluna {col} é constante e pode ser removida.\")"
   ]
  },
  {
   "cell_type": "code",
   "execution_count": 123,
   "id": "1b086e71",
   "metadata": {},
   "outputs": [],
   "source": [
    "df = df.drop(columns=[\"EmployeeCount\", \"Over18\", \"StandardHours\"])"
   ]
  },
  {
   "cell_type": "markdown",
   "id": "3c8d502a",
   "metadata": {},
   "source": [
    "## 4. Criar novas variáveis"
   ]
  },
  {
   "cell_type": "code",
   "execution_count": 124,
   "id": "2eda8cc8",
   "metadata": {},
   "outputs": [],
   "source": [
    "# Faixa Etária\n",
    "\n",
    "df[\"AgeGroup\"] = pd.cut(df[\"Age\"], bins=[18, 30, 40, 50, 60], \n",
    "                        labels=[\"18-30\", \"31-40\", \"41-50\", \"51-60\"])"
   ]
  },
  {
   "cell_type": "code",
   "execution_count": 125,
   "id": "4785a462",
   "metadata": {},
   "outputs": [],
   "source": [
    "# Tempo de caso relativo: proporção entre YearsAtCompany e TotalWorkingYears\n",
    "\n",
    "df[\"PercYearsAtCompany\"] = df[\"YearsAtCompany\"] / (df[\"TotalWorkingYears\"] + 1)"
   ]
  },
  {
   "cell_type": "code",
   "execution_count": 126,
   "id": "28ab760b",
   "metadata": {},
   "outputs": [],
   "source": [
    "# Tempo médio por empresa\n",
    "\n",
    "df['AvgYearsPerCompany'] = df['TotalWorkingYears'] / (df['NumCompaniesWorked'].replace(0,1))"
   ]
  },
  {
   "cell_type": "code",
   "execution_count": 127,
   "id": "88a3ffa4",
   "metadata": {},
   "outputs": [],
   "source": [
    "# Taxa de promoção\n",
    "\n",
    "df['PromotionRate'] = df['YearsSinceLastPromotion'] / (df['TotalWorkingYears'] + 1)"
   ]
  },
  {
   "cell_type": "code",
   "execution_count": 128,
   "id": "4c30337c",
   "metadata": {},
   "outputs": [],
   "source": [
    "# Categoria de renda: agrupar MonthlyIncome em faixas\n",
    "\n",
    "df[\"IncomeGroup\"] = pd.qcut(df[\"MonthlyIncome\"], q=4, labels=[\"Baixo\", \"Médio\", \"Alto\", \"Muito Alto\"])"
   ]
  },
  {
   "cell_type": "code",
   "execution_count": 129,
   "id": "712515cb",
   "metadata": {},
   "outputs": [],
   "source": [
    "# Distância de casa (binário: 0=perto, 1=longe)\n",
    "\n",
    "df['FarFromHome'] = (df['DistanceFromHome'] > df['DistanceFromHome'].median()).astype(int)"
   ]
  },
  {
   "cell_type": "code",
   "execution_count": 130,
   "id": "bc534fdf",
   "metadata": {},
   "outputs": [],
   "source": [
    "# Experiência em múltiplas empresas: binária (se já trabalhou em mais de 3 empresas)\n",
    "\n",
    "df[\"MultiCompanyExp\"] = (df[\"NumCompaniesWorked\"] > 3).astype(int)"
   ]
  },
  {
   "cell_type": "code",
   "execution_count": 131,
   "id": "376aae67",
   "metadata": {},
   "outputs": [],
   "source": [
    "# Proporção de tempo de carreira na empresa atual\n",
    "\n",
    "df['CompanyExperienceRatio'] = df['YearsAtCompany'] / (df['TotalWorkingYears'] + 1)"
   ]
  },
  {
   "cell_type": "code",
   "execution_count": 132,
   "id": "25a1ae22",
   "metadata": {},
   "outputs": [],
   "source": [
    "# Gap desde última promoção:\n",
    "## Criar indicador se ficou >5 anos sem promoção.\n",
    "\n",
    "df[\"LongTimeNoPromotion\"] = (df[\"YearsSinceLastPromotion\"] > 5).astype(int)"
   ]
  },
  {
   "cell_type": "markdown",
   "id": "f5d52553",
   "metadata": {},
   "source": [
    "## 5. Dividir a base em treino e teste"
   ]
  },
  {
   "cell_type": "code",
   "execution_count": 134,
   "id": "88d6ee69",
   "metadata": {},
   "outputs": [],
   "source": [
    "# Definindo variáveis\n",
    "X = df.drop(columns=[\"Attrition\"])  # features (explicativas)\n",
    "y = df[\"Attrition\"]                 # target (variável resposta)"
   ]
  },
  {
   "cell_type": "code",
   "execution_count": 135,
   "id": "06b88d47",
   "metadata": {},
   "outputs": [],
   "source": [
    "# Divisão em treino e teste\n",
    "X_train, X_test, y_train, y_test = train_test_split(\n",
    "    X, y, \n",
    "    test_size=0.2,        # 20% teste, 80% treino\n",
    "    random_state=42,      # seed para reprodutibilidade\n",
    "    stratify=y            # mantém a proporção do target\n",
    ")"
   ]
  },
  {
   "cell_type": "code",
   "execution_count": 136,
   "id": "1914dcce",
   "metadata": {},
   "outputs": [
    {
     "name": "stdout",
     "output_type": "stream",
     "text": [
      "Tamanho do treino: (3528, 29)\n",
      "Tamanho do teste: (882, 29)\n",
      "Proporção no treino: Attrition\n",
      "No     0.838719\n",
      "Yes    0.161281\n",
      "Name: proportion, dtype: float64\n",
      "Proporção no teste: Attrition\n",
      "No     0.839002\n",
      "Yes    0.160998\n",
      "Name: proportion, dtype: float64\n"
     ]
    }
   ],
   "source": [
    "print(\"Tamanho do treino:\", X_train.shape)\n",
    "print(\"Tamanho do teste:\", X_test.shape)\n",
    "print(\"Proporção no treino:\", y_train.value_counts(normalize=True))\n",
    "print(\"Proporção no teste:\", y_test.value_counts(normalize=True))"
   ]
  },
  {
   "cell_type": "markdown",
   "id": "a6c61372",
   "metadata": {},
   "source": [
    "## 6. Fazer uma análise exploratória"
   ]
  }
 ],
 "metadata": {
  "kernelspec": {
   "display_name": ".venv",
   "language": "python",
   "name": "python3"
  },
  "language_info": {
   "codemirror_mode": {
    "name": "ipython",
    "version": 3
   },
   "file_extension": ".py",
   "mimetype": "text/x-python",
   "name": "python",
   "nbconvert_exporter": "python",
   "pygments_lexer": "ipython3",
   "version": "3.13.7"
  }
 },
 "nbformat": 4,
 "nbformat_minor": 5
}
