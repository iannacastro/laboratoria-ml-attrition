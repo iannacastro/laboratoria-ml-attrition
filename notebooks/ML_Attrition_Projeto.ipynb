{
 "cells": [
  {
   "cell_type": "markdown",
   "id": "84342f3f",
   "metadata": {},
   "source": [
    "# Projeto de Previsão de Rotatividade de Funcionários (Attrition)\n",
    "\n",
    "Este notebook organiza scripts, análises e resultados do projeto de Machine Learning para prever a saída de funcionários."
   ]
  },
  {
   "cell_type": "markdown",
   "id": "8f9a03f4",
   "metadata": {},
   "source": [
    "## 1. Importar Bibliotecas\n",
    "\n",
    "Nesta seção, vamos importar as principais bibliotecas para análise e modelagem de dados em Python."
   ]
  },
  {
   "cell_type": "code",
   "execution_count": 181,
   "id": "59489a32",
   "metadata": {},
   "outputs": [],
   "source": [
    "import numpy as np\n",
    "import pandas as pd\n",
    "import matplotlib.pyplot as plt\n",
    "import seaborn as sns\n",
    "import math\n",
    "from sklearn.preprocessing import LabelEncoder\n",
    "from sklearn.model_selection import train_test_split"
   ]
  },
  {
   "cell_type": "markdown",
   "id": "e49c4773",
   "metadata": {},
   "source": [
    "## 2. Importar os arquivos no notebook"
   ]
  },
  {
   "cell_type": "code",
   "execution_count": 133,
   "id": "cfeb87fb",
   "metadata": {},
   "outputs": [],
   "source": [
    "df = pd.read_csv(\"../data/raw/rh_data.csv\")"
   ]
  },
  {
   "cell_type": "markdown",
   "id": "222ecfb2",
   "metadata": {},
   "source": [
    "### 2.1. Checando informações no DataFrame"
   ]
  },
  {
   "cell_type": "code",
   "execution_count": 134,
   "id": "b2aa9b96",
   "metadata": {},
   "outputs": [
    {
     "name": "stdout",
     "output_type": "stream",
     "text": [
      "Formato da base: (4410, 24)\n"
     ]
    }
   ],
   "source": [
    "print(\"Formato da base:\", df.shape)"
   ]
  },
  {
   "cell_type": "code",
   "execution_count": 135,
   "id": "a1ccac5a",
   "metadata": {},
   "outputs": [
    {
     "name": "stdout",
     "output_type": "stream",
     "text": [
      "<class 'pandas.core.frame.DataFrame'>\n",
      "RangeIndex: 4410 entries, 0 to 4409\n",
      "Data columns (total 24 columns):\n",
      " #   Column                   Non-Null Count  Dtype  \n",
      "---  ------                   --------------  -----  \n",
      " 0   Age                      4410 non-null   int64  \n",
      " 1   Attrition                4410 non-null   object \n",
      " 2   BusinessTravel           4410 non-null   object \n",
      " 3   Department               4410 non-null   object \n",
      " 4   DistanceFromHome         4410 non-null   int64  \n",
      " 5   Education                4410 non-null   int64  \n",
      " 6   EducationField           4410 non-null   object \n",
      " 7   EmployeeCount            4410 non-null   int64  \n",
      " 8   EmployeeID               4410 non-null   int64  \n",
      " 9   Gender                   4410 non-null   object \n",
      " 10  JobLevel                 4410 non-null   int64  \n",
      " 11  JobRole                  4410 non-null   object \n",
      " 12  MaritalStatus            4410 non-null   object \n",
      " 13  MonthlyIncome            4410 non-null   int64  \n",
      " 14  NumCompaniesWorked       4391 non-null   float64\n",
      " 15  Over18                   4410 non-null   object \n",
      " 16  PercentSalaryHike        4410 non-null   int64  \n",
      " 17  StandardHours            4410 non-null   int64  \n",
      " 18  StockOptionLevel         4410 non-null   int64  \n",
      " 19  TotalWorkingYears        4401 non-null   float64\n",
      " 20  TrainingTimesLastYear    4410 non-null   int64  \n",
      " 21  YearsAtCompany           4410 non-null   int64  \n",
      " 22  YearsSinceLastPromotion  4410 non-null   int64  \n",
      " 23  YearsWithCurrManager     4410 non-null   int64  \n",
      "dtypes: float64(2), int64(14), object(8)\n",
      "memory usage: 827.0+ KB\n"
     ]
    }
   ],
   "source": [
    "pd.set_option(\"display.max_rows\", None)\n",
    "\n",
    "df.info()"
   ]
  },
  {
   "cell_type": "code",
   "execution_count": 136,
   "id": "949738a3",
   "metadata": {},
   "outputs": [
    {
     "data": {
      "text/html": [
       "<div>\n",
       "<style scoped>\n",
       "    .dataframe tbody tr th:only-of-type {\n",
       "        vertical-align: middle;\n",
       "    }\n",
       "\n",
       "    .dataframe tbody tr th {\n",
       "        vertical-align: top;\n",
       "    }\n",
       "\n",
       "    .dataframe thead th {\n",
       "        text-align: right;\n",
       "    }\n",
       "</style>\n",
       "<table border=\"1\" class=\"dataframe\">\n",
       "  <thead>\n",
       "    <tr style=\"text-align: right;\">\n",
       "      <th></th>\n",
       "      <th>Age</th>\n",
       "      <th>Attrition</th>\n",
       "      <th>BusinessTravel</th>\n",
       "      <th>Department</th>\n",
       "      <th>DistanceFromHome</th>\n",
       "      <th>Education</th>\n",
       "      <th>EducationField</th>\n",
       "      <th>EmployeeCount</th>\n",
       "      <th>EmployeeID</th>\n",
       "      <th>Gender</th>\n",
       "      <th>...</th>\n",
       "      <th>NumCompaniesWorked</th>\n",
       "      <th>Over18</th>\n",
       "      <th>PercentSalaryHike</th>\n",
       "      <th>StandardHours</th>\n",
       "      <th>StockOptionLevel</th>\n",
       "      <th>TotalWorkingYears</th>\n",
       "      <th>TrainingTimesLastYear</th>\n",
       "      <th>YearsAtCompany</th>\n",
       "      <th>YearsSinceLastPromotion</th>\n",
       "      <th>YearsWithCurrManager</th>\n",
       "    </tr>\n",
       "  </thead>\n",
       "  <tbody>\n",
       "    <tr>\n",
       "      <th>0</th>\n",
       "      <td>51</td>\n",
       "      <td>No</td>\n",
       "      <td>Travel_Rarely</td>\n",
       "      <td>Sales</td>\n",
       "      <td>6</td>\n",
       "      <td>2</td>\n",
       "      <td>Life Sciences</td>\n",
       "      <td>1</td>\n",
       "      <td>1</td>\n",
       "      <td>Female</td>\n",
       "      <td>...</td>\n",
       "      <td>1.0</td>\n",
       "      <td>Y</td>\n",
       "      <td>11</td>\n",
       "      <td>8</td>\n",
       "      <td>0</td>\n",
       "      <td>1.0</td>\n",
       "      <td>6</td>\n",
       "      <td>1</td>\n",
       "      <td>0</td>\n",
       "      <td>0</td>\n",
       "    </tr>\n",
       "    <tr>\n",
       "      <th>1</th>\n",
       "      <td>31</td>\n",
       "      <td>Yes</td>\n",
       "      <td>Travel_Frequently</td>\n",
       "      <td>Research &amp; Development</td>\n",
       "      <td>10</td>\n",
       "      <td>1</td>\n",
       "      <td>Life Sciences</td>\n",
       "      <td>1</td>\n",
       "      <td>2</td>\n",
       "      <td>Female</td>\n",
       "      <td>...</td>\n",
       "      <td>0.0</td>\n",
       "      <td>Y</td>\n",
       "      <td>23</td>\n",
       "      <td>8</td>\n",
       "      <td>1</td>\n",
       "      <td>6.0</td>\n",
       "      <td>3</td>\n",
       "      <td>5</td>\n",
       "      <td>1</td>\n",
       "      <td>4</td>\n",
       "    </tr>\n",
       "    <tr>\n",
       "      <th>2</th>\n",
       "      <td>32</td>\n",
       "      <td>No</td>\n",
       "      <td>Travel_Frequently</td>\n",
       "      <td>Research &amp; Development</td>\n",
       "      <td>17</td>\n",
       "      <td>4</td>\n",
       "      <td>Other</td>\n",
       "      <td>1</td>\n",
       "      <td>3</td>\n",
       "      <td>Male</td>\n",
       "      <td>...</td>\n",
       "      <td>1.0</td>\n",
       "      <td>Y</td>\n",
       "      <td>15</td>\n",
       "      <td>8</td>\n",
       "      <td>3</td>\n",
       "      <td>5.0</td>\n",
       "      <td>2</td>\n",
       "      <td>5</td>\n",
       "      <td>0</td>\n",
       "      <td>3</td>\n",
       "    </tr>\n",
       "    <tr>\n",
       "      <th>3</th>\n",
       "      <td>38</td>\n",
       "      <td>No</td>\n",
       "      <td>Non-Travel</td>\n",
       "      <td>Research &amp; Development</td>\n",
       "      <td>2</td>\n",
       "      <td>5</td>\n",
       "      <td>Life Sciences</td>\n",
       "      <td>1</td>\n",
       "      <td>4</td>\n",
       "      <td>Male</td>\n",
       "      <td>...</td>\n",
       "      <td>3.0</td>\n",
       "      <td>Y</td>\n",
       "      <td>11</td>\n",
       "      <td>8</td>\n",
       "      <td>3</td>\n",
       "      <td>13.0</td>\n",
       "      <td>5</td>\n",
       "      <td>8</td>\n",
       "      <td>7</td>\n",
       "      <td>5</td>\n",
       "    </tr>\n",
       "    <tr>\n",
       "      <th>4</th>\n",
       "      <td>32</td>\n",
       "      <td>No</td>\n",
       "      <td>Travel_Rarely</td>\n",
       "      <td>Research &amp; Development</td>\n",
       "      <td>10</td>\n",
       "      <td>1</td>\n",
       "      <td>Medical</td>\n",
       "      <td>1</td>\n",
       "      <td>5</td>\n",
       "      <td>Male</td>\n",
       "      <td>...</td>\n",
       "      <td>4.0</td>\n",
       "      <td>Y</td>\n",
       "      <td>12</td>\n",
       "      <td>8</td>\n",
       "      <td>2</td>\n",
       "      <td>9.0</td>\n",
       "      <td>2</td>\n",
       "      <td>6</td>\n",
       "      <td>0</td>\n",
       "      <td>4</td>\n",
       "    </tr>\n",
       "  </tbody>\n",
       "</table>\n",
       "<p>5 rows × 24 columns</p>\n",
       "</div>"
      ],
      "text/plain": [
       "   Age Attrition     BusinessTravel              Department  DistanceFromHome  \\\n",
       "0   51        No      Travel_Rarely                   Sales                 6   \n",
       "1   31       Yes  Travel_Frequently  Research & Development                10   \n",
       "2   32        No  Travel_Frequently  Research & Development                17   \n",
       "3   38        No         Non-Travel  Research & Development                 2   \n",
       "4   32        No      Travel_Rarely  Research & Development                10   \n",
       "\n",
       "   Education EducationField  EmployeeCount  EmployeeID  Gender  ...  \\\n",
       "0          2  Life Sciences              1           1  Female  ...   \n",
       "1          1  Life Sciences              1           2  Female  ...   \n",
       "2          4          Other              1           3    Male  ...   \n",
       "3          5  Life Sciences              1           4    Male  ...   \n",
       "4          1        Medical              1           5    Male  ...   \n",
       "\n",
       "   NumCompaniesWorked Over18 PercentSalaryHike  StandardHours  \\\n",
       "0                 1.0      Y                11              8   \n",
       "1                 0.0      Y                23              8   \n",
       "2                 1.0      Y                15              8   \n",
       "3                 3.0      Y                11              8   \n",
       "4                 4.0      Y                12              8   \n",
       "\n",
       "   StockOptionLevel TotalWorkingYears  TrainingTimesLastYear  YearsAtCompany  \\\n",
       "0                 0               1.0                      6               1   \n",
       "1                 1               6.0                      3               5   \n",
       "2                 3               5.0                      2               5   \n",
       "3                 3              13.0                      5               8   \n",
       "4                 2               9.0                      2               6   \n",
       "\n",
       "   YearsSinceLastPromotion  YearsWithCurrManager  \n",
       "0                        0                     0  \n",
       "1                        1                     4  \n",
       "2                        0                     3  \n",
       "3                        7                     5  \n",
       "4                        0                     4  \n",
       "\n",
       "[5 rows x 24 columns]"
      ]
     },
     "execution_count": 136,
     "metadata": {},
     "output_type": "execute_result"
    }
   ],
   "source": [
    "df.head()"
   ]
  },
  {
   "cell_type": "code",
   "execution_count": 137,
   "id": "d4457f70",
   "metadata": {},
   "outputs": [
    {
     "data": {
      "text/html": [
       "<div>\n",
       "<style scoped>\n",
       "    .dataframe tbody tr th:only-of-type {\n",
       "        vertical-align: middle;\n",
       "    }\n",
       "\n",
       "    .dataframe tbody tr th {\n",
       "        vertical-align: top;\n",
       "    }\n",
       "\n",
       "    .dataframe thead th {\n",
       "        text-align: right;\n",
       "    }\n",
       "</style>\n",
       "<table border=\"1\" class=\"dataframe\">\n",
       "  <thead>\n",
       "    <tr style=\"text-align: right;\">\n",
       "      <th></th>\n",
       "      <th>Age</th>\n",
       "      <th>DistanceFromHome</th>\n",
       "      <th>Education</th>\n",
       "      <th>EmployeeCount</th>\n",
       "      <th>EmployeeID</th>\n",
       "      <th>JobLevel</th>\n",
       "      <th>MonthlyIncome</th>\n",
       "      <th>NumCompaniesWorked</th>\n",
       "      <th>PercentSalaryHike</th>\n",
       "      <th>StandardHours</th>\n",
       "      <th>StockOptionLevel</th>\n",
       "      <th>TotalWorkingYears</th>\n",
       "      <th>TrainingTimesLastYear</th>\n",
       "      <th>YearsAtCompany</th>\n",
       "      <th>YearsSinceLastPromotion</th>\n",
       "      <th>YearsWithCurrManager</th>\n",
       "    </tr>\n",
       "  </thead>\n",
       "  <tbody>\n",
       "    <tr>\n",
       "      <th>count</th>\n",
       "      <td>4410.000000</td>\n",
       "      <td>4410.000000</td>\n",
       "      <td>4410.000000</td>\n",
       "      <td>4410.0</td>\n",
       "      <td>4410.000000</td>\n",
       "      <td>4410.000000</td>\n",
       "      <td>4410.000000</td>\n",
       "      <td>4391.000000</td>\n",
       "      <td>4410.000000</td>\n",
       "      <td>4410.0</td>\n",
       "      <td>4410.000000</td>\n",
       "      <td>4401.000000</td>\n",
       "      <td>4410.000000</td>\n",
       "      <td>4410.000000</td>\n",
       "      <td>4410.000000</td>\n",
       "      <td>4410.000000</td>\n",
       "    </tr>\n",
       "    <tr>\n",
       "      <th>mean</th>\n",
       "      <td>36.923810</td>\n",
       "      <td>9.192517</td>\n",
       "      <td>2.912925</td>\n",
       "      <td>1.0</td>\n",
       "      <td>2205.500000</td>\n",
       "      <td>2.063946</td>\n",
       "      <td>65029.312925</td>\n",
       "      <td>2.694830</td>\n",
       "      <td>15.209524</td>\n",
       "      <td>8.0</td>\n",
       "      <td>0.793878</td>\n",
       "      <td>11.279936</td>\n",
       "      <td>2.799320</td>\n",
       "      <td>7.008163</td>\n",
       "      <td>2.187755</td>\n",
       "      <td>4.123129</td>\n",
       "    </tr>\n",
       "    <tr>\n",
       "      <th>std</th>\n",
       "      <td>9.133301</td>\n",
       "      <td>8.105026</td>\n",
       "      <td>1.023933</td>\n",
       "      <td>0.0</td>\n",
       "      <td>1273.201673</td>\n",
       "      <td>1.106689</td>\n",
       "      <td>47068.888559</td>\n",
       "      <td>2.498887</td>\n",
       "      <td>3.659108</td>\n",
       "      <td>0.0</td>\n",
       "      <td>0.851883</td>\n",
       "      <td>7.782222</td>\n",
       "      <td>1.288978</td>\n",
       "      <td>6.125135</td>\n",
       "      <td>3.221699</td>\n",
       "      <td>3.567327</td>\n",
       "    </tr>\n",
       "    <tr>\n",
       "      <th>min</th>\n",
       "      <td>18.000000</td>\n",
       "      <td>1.000000</td>\n",
       "      <td>1.000000</td>\n",
       "      <td>1.0</td>\n",
       "      <td>1.000000</td>\n",
       "      <td>1.000000</td>\n",
       "      <td>10090.000000</td>\n",
       "      <td>0.000000</td>\n",
       "      <td>11.000000</td>\n",
       "      <td>8.0</td>\n",
       "      <td>0.000000</td>\n",
       "      <td>0.000000</td>\n",
       "      <td>0.000000</td>\n",
       "      <td>0.000000</td>\n",
       "      <td>0.000000</td>\n",
       "      <td>0.000000</td>\n",
       "    </tr>\n",
       "    <tr>\n",
       "      <th>25%</th>\n",
       "      <td>30.000000</td>\n",
       "      <td>2.000000</td>\n",
       "      <td>2.000000</td>\n",
       "      <td>1.0</td>\n",
       "      <td>1103.250000</td>\n",
       "      <td>1.000000</td>\n",
       "      <td>29110.000000</td>\n",
       "      <td>1.000000</td>\n",
       "      <td>12.000000</td>\n",
       "      <td>8.0</td>\n",
       "      <td>0.000000</td>\n",
       "      <td>6.000000</td>\n",
       "      <td>2.000000</td>\n",
       "      <td>3.000000</td>\n",
       "      <td>0.000000</td>\n",
       "      <td>2.000000</td>\n",
       "    </tr>\n",
       "    <tr>\n",
       "      <th>50%</th>\n",
       "      <td>36.000000</td>\n",
       "      <td>7.000000</td>\n",
       "      <td>3.000000</td>\n",
       "      <td>1.0</td>\n",
       "      <td>2205.500000</td>\n",
       "      <td>2.000000</td>\n",
       "      <td>49190.000000</td>\n",
       "      <td>2.000000</td>\n",
       "      <td>14.000000</td>\n",
       "      <td>8.0</td>\n",
       "      <td>1.000000</td>\n",
       "      <td>10.000000</td>\n",
       "      <td>3.000000</td>\n",
       "      <td>5.000000</td>\n",
       "      <td>1.000000</td>\n",
       "      <td>3.000000</td>\n",
       "    </tr>\n",
       "    <tr>\n",
       "      <th>75%</th>\n",
       "      <td>43.000000</td>\n",
       "      <td>14.000000</td>\n",
       "      <td>4.000000</td>\n",
       "      <td>1.0</td>\n",
       "      <td>3307.750000</td>\n",
       "      <td>3.000000</td>\n",
       "      <td>83800.000000</td>\n",
       "      <td>4.000000</td>\n",
       "      <td>18.000000</td>\n",
       "      <td>8.0</td>\n",
       "      <td>1.000000</td>\n",
       "      <td>15.000000</td>\n",
       "      <td>3.000000</td>\n",
       "      <td>9.000000</td>\n",
       "      <td>3.000000</td>\n",
       "      <td>7.000000</td>\n",
       "    </tr>\n",
       "    <tr>\n",
       "      <th>max</th>\n",
       "      <td>60.000000</td>\n",
       "      <td>29.000000</td>\n",
       "      <td>5.000000</td>\n",
       "      <td>1.0</td>\n",
       "      <td>4410.000000</td>\n",
       "      <td>5.000000</td>\n",
       "      <td>199990.000000</td>\n",
       "      <td>9.000000</td>\n",
       "      <td>25.000000</td>\n",
       "      <td>8.0</td>\n",
       "      <td>3.000000</td>\n",
       "      <td>40.000000</td>\n",
       "      <td>6.000000</td>\n",
       "      <td>40.000000</td>\n",
       "      <td>15.000000</td>\n",
       "      <td>17.000000</td>\n",
       "    </tr>\n",
       "  </tbody>\n",
       "</table>\n",
       "</div>"
      ],
      "text/plain": [
       "               Age  DistanceFromHome    Education  EmployeeCount   EmployeeID  \\\n",
       "count  4410.000000       4410.000000  4410.000000         4410.0  4410.000000   \n",
       "mean     36.923810          9.192517     2.912925            1.0  2205.500000   \n",
       "std       9.133301          8.105026     1.023933            0.0  1273.201673   \n",
       "min      18.000000          1.000000     1.000000            1.0     1.000000   \n",
       "25%      30.000000          2.000000     2.000000            1.0  1103.250000   \n",
       "50%      36.000000          7.000000     3.000000            1.0  2205.500000   \n",
       "75%      43.000000         14.000000     4.000000            1.0  3307.750000   \n",
       "max      60.000000         29.000000     5.000000            1.0  4410.000000   \n",
       "\n",
       "          JobLevel  MonthlyIncome  NumCompaniesWorked  PercentSalaryHike  \\\n",
       "count  4410.000000    4410.000000         4391.000000        4410.000000   \n",
       "mean      2.063946   65029.312925            2.694830          15.209524   \n",
       "std       1.106689   47068.888559            2.498887           3.659108   \n",
       "min       1.000000   10090.000000            0.000000          11.000000   \n",
       "25%       1.000000   29110.000000            1.000000          12.000000   \n",
       "50%       2.000000   49190.000000            2.000000          14.000000   \n",
       "75%       3.000000   83800.000000            4.000000          18.000000   \n",
       "max       5.000000  199990.000000            9.000000          25.000000   \n",
       "\n",
       "       StandardHours  StockOptionLevel  TotalWorkingYears  \\\n",
       "count         4410.0       4410.000000        4401.000000   \n",
       "mean             8.0          0.793878          11.279936   \n",
       "std              0.0          0.851883           7.782222   \n",
       "min              8.0          0.000000           0.000000   \n",
       "25%              8.0          0.000000           6.000000   \n",
       "50%              8.0          1.000000          10.000000   \n",
       "75%              8.0          1.000000          15.000000   \n",
       "max              8.0          3.000000          40.000000   \n",
       "\n",
       "       TrainingTimesLastYear  YearsAtCompany  YearsSinceLastPromotion  \\\n",
       "count            4410.000000     4410.000000              4410.000000   \n",
       "mean                2.799320        7.008163                 2.187755   \n",
       "std                 1.288978        6.125135                 3.221699   \n",
       "min                 0.000000        0.000000                 0.000000   \n",
       "25%                 2.000000        3.000000                 0.000000   \n",
       "50%                 3.000000        5.000000                 1.000000   \n",
       "75%                 3.000000        9.000000                 3.000000   \n",
       "max                 6.000000       40.000000                15.000000   \n",
       "\n",
       "       YearsWithCurrManager  \n",
       "count           4410.000000  \n",
       "mean               4.123129  \n",
       "std                3.567327  \n",
       "min                0.000000  \n",
       "25%                2.000000  \n",
       "50%                3.000000  \n",
       "75%                7.000000  \n",
       "max               17.000000  "
      ]
     },
     "execution_count": 137,
     "metadata": {},
     "output_type": "execute_result"
    }
   ],
   "source": [
    "df.describe()"
   ]
  },
  {
   "cell_type": "markdown",
   "id": "5a1eb3b2",
   "metadata": {},
   "source": [
    "## 3. Limpar dados"
   ]
  },
  {
   "cell_type": "markdown",
   "id": "a2fef72d",
   "metadata": {},
   "source": [
    "### 3.1. Identificar valores nulos"
   ]
  },
  {
   "cell_type": "code",
   "execution_count": 138,
   "id": "54d846c5",
   "metadata": {},
   "outputs": [
    {
     "name": "stdout",
     "output_type": "stream",
     "text": [
      "Age                         0\n",
      "Attrition                   0\n",
      "BusinessTravel              0\n",
      "Department                  0\n",
      "DistanceFromHome            0\n",
      "Education                   0\n",
      "EducationField              0\n",
      "EmployeeCount               0\n",
      "EmployeeID                  0\n",
      "Gender                      0\n",
      "JobLevel                    0\n",
      "JobRole                     0\n",
      "MaritalStatus               0\n",
      "MonthlyIncome               0\n",
      "NumCompaniesWorked         19\n",
      "Over18                      0\n",
      "PercentSalaryHike           0\n",
      "StandardHours               0\n",
      "StockOptionLevel            0\n",
      "TotalWorkingYears           9\n",
      "TrainingTimesLastYear       0\n",
      "YearsAtCompany              0\n",
      "YearsSinceLastPromotion     0\n",
      "YearsWithCurrManager        0\n",
      "dtype: int64\n",
      "Age                        0.000000\n",
      "Attrition                  0.000000\n",
      "BusinessTravel             0.000000\n",
      "Department                 0.000000\n",
      "DistanceFromHome           0.000000\n",
      "Education                  0.000000\n",
      "EducationField             0.000000\n",
      "EmployeeCount              0.000000\n",
      "EmployeeID                 0.000000\n",
      "Gender                     0.000000\n",
      "JobLevel                   0.000000\n",
      "JobRole                    0.000000\n",
      "MaritalStatus              0.000000\n",
      "MonthlyIncome              0.000000\n",
      "NumCompaniesWorked         0.430839\n",
      "Over18                     0.000000\n",
      "PercentSalaryHike          0.000000\n",
      "StandardHours              0.000000\n",
      "StockOptionLevel           0.000000\n",
      "TotalWorkingYears          0.204082\n",
      "TrainingTimesLastYear      0.000000\n",
      "YearsAtCompany             0.000000\n",
      "YearsSinceLastPromotion    0.000000\n",
      "YearsWithCurrManager       0.000000\n",
      "dtype: float64\n"
     ]
    }
   ],
   "source": [
    "# Ver quantidade de valores nulos por coluna\n",
    "print(df.isnull().sum())\n",
    "\n",
    "# Ver proporção (% de nulos)\n",
    "print(df.isnull().mean() * 100)"
   ]
  },
  {
   "cell_type": "markdown",
   "id": "7f682615",
   "metadata": {},
   "source": [
    "Na variável NumCompaniesWorked eles serão substituídos por 1, visto que só sabemos que eles trabalham nessa empresa atualmente. \n",
    "\n",
    "* Nesse momento também haverá a substituição de valores 0 por 1. "
   ]
  },
  {
   "cell_type": "code",
   "execution_count": 139,
   "id": "830d53ce",
   "metadata": {},
   "outputs": [],
   "source": [
    "df['NumCompaniesWorked'] = df['NumCompaniesWorked'].fillna(1)"
   ]
  },
  {
   "cell_type": "code",
   "execution_count": 140,
   "id": "403046ac",
   "metadata": {},
   "outputs": [],
   "source": [
    "df.loc[df['NumCompaniesWorked'] == 0, 'NumCompaniesWorked'] = 1\n"
   ]
  },
  {
   "cell_type": "markdown",
   "id": "147789c6",
   "metadata": {},
   "source": [
    "Na variável TotalWorkingYears será substituído pelo mesmo valor em YearsAtCompany, já que sabemos a quanto tempo o funcionário está na empresa. "
   ]
  },
  {
   "cell_type": "code",
   "execution_count": 141,
   "id": "86efa121",
   "metadata": {},
   "outputs": [],
   "source": [
    "df[\"TotalWorkingYears\"] = np.where(\n",
    "    df[\"TotalWorkingYears\"].isnull(), \n",
    "    df[\"YearsAtCompany\"], \n",
    "    df[\"TotalWorkingYears\"]\n",
    ")"
   ]
  },
  {
   "cell_type": "code",
   "execution_count": 142,
   "id": "7d82aebc",
   "metadata": {},
   "outputs": [
    {
     "name": "stdout",
     "output_type": "stream",
     "text": [
      "Age                        0\n",
      "Attrition                  0\n",
      "BusinessTravel             0\n",
      "Department                 0\n",
      "DistanceFromHome           0\n",
      "Education                  0\n",
      "EducationField             0\n",
      "EmployeeCount              0\n",
      "EmployeeID                 0\n",
      "Gender                     0\n",
      "JobLevel                   0\n",
      "JobRole                    0\n",
      "MaritalStatus              0\n",
      "MonthlyIncome              0\n",
      "NumCompaniesWorked         0\n",
      "Over18                     0\n",
      "PercentSalaryHike          0\n",
      "StandardHours              0\n",
      "StockOptionLevel           0\n",
      "TotalWorkingYears          0\n",
      "TrainingTimesLastYear      0\n",
      "YearsAtCompany             0\n",
      "YearsSinceLastPromotion    0\n",
      "YearsWithCurrManager       0\n",
      "dtype: int64\n"
     ]
    }
   ],
   "source": [
    "print(df.isnull().sum())"
   ]
  },
  {
   "cell_type": "markdown",
   "id": "ffeeda51",
   "metadata": {},
   "source": [
    "### 3.2. Remover duplicados"
   ]
  },
  {
   "cell_type": "code",
   "execution_count": 143,
   "id": "df998823",
   "metadata": {},
   "outputs": [
    {
     "name": "stdout",
     "output_type": "stream",
     "text": [
      "Empty DataFrame\n",
      "Columns: [Age, Attrition, BusinessTravel, Department, DistanceFromHome, Education, EducationField, EmployeeCount, EmployeeID, Gender, JobLevel, JobRole, MaritalStatus, MonthlyIncome, NumCompaniesWorked, Over18, PercentSalaryHike, StandardHours, StockOptionLevel, TotalWorkingYears, TrainingTimesLastYear, YearsAtCompany, YearsSinceLastPromotion, YearsWithCurrManager]\n",
      "Index: []\n",
      "\n",
      "[0 rows x 24 columns]\n"
     ]
    }
   ],
   "source": [
    "duplicados = df[df.duplicated(keep='first')]\n",
    "print(duplicados)"
   ]
  },
  {
   "cell_type": "code",
   "execution_count": 144,
   "id": "5e695a97",
   "metadata": {},
   "outputs": [],
   "source": [
    "df.drop_duplicates(keep='first', inplace=True) "
   ]
  },
  {
   "cell_type": "markdown",
   "id": "66700de3",
   "metadata": {},
   "source": [
    "### 3.3. Identificar a variável resposta"
   ]
  },
  {
   "cell_type": "markdown",
   "id": "01b1c7ee",
   "metadata": {},
   "source": [
    "A variável resposta \"attrition\" está no formato de texto (\"Yes\" e \"No\"), será necessário transformá-la em valores numéricos antes de treinar o modelo. Eles serão separados para não transformar junto com outras variáveis. "
   ]
  },
  {
   "cell_type": "code",
   "execution_count": 145,
   "id": "460ef477",
   "metadata": {},
   "outputs": [],
   "source": [
    "df['Attrition'] = df['Attrition'].map({'Yes': 1, 'No': 0})"
   ]
  },
  {
   "cell_type": "code",
   "execution_count": 146,
   "id": "6f129a80",
   "metadata": {},
   "outputs": [],
   "source": [
    "y = df[\"Attrition\"].map({\"Yes\": 1, \"No\": 0})\n",
    "X = df.drop(columns=[\"Attrition\"])\n",
    "\n",
    "X = X.reset_index(drop=True)\n",
    "y = y.reset_index(drop=True)"
   ]
  },
  {
   "cell_type": "markdown",
   "id": "60f0ab3c",
   "metadata": {},
   "source": [
    "### 3.4. Transformar variáveis categóricas (Label Encoding)"
   ]
  },
  {
   "cell_type": "code",
   "execution_count": 147,
   "id": "e89f5c40",
   "metadata": {},
   "outputs": [
    {
     "name": "stdout",
     "output_type": "stream",
     "text": [
      "Colunas categóricas: Index(['BusinessTravel', 'Department', 'EducationField', 'Gender', 'JobRole',\n",
      "       'MaritalStatus', 'Over18'],\n",
      "      dtype='object')\n"
     ]
    }
   ],
   "source": [
    "# Identificar colunas categóricas\n",
    "cat_cols = X.select_dtypes(include=\"object\").columns\n",
    "print(\"Colunas categóricas:\", cat_cols)\n",
    "\n",
    "le = LabelEncoder()\n",
    "\n",
    "# Aplicar LabelEncoder em cada coluna categórica\n",
    "for col in cat_cols:\n",
    "    X[col] = le.fit_transform(X[col])"
   ]
  },
  {
   "cell_type": "markdown",
   "id": "348f6a30",
   "metadata": {},
   "source": [
    "### 3.5. Rejuntar X e Y"
   ]
  },
  {
   "cell_type": "code",
   "execution_count": 148,
   "id": "2496864f",
   "metadata": {},
   "outputs": [],
   "source": [
    "df_clean = pd.concat([X, y], axis=1)"
   ]
  },
  {
   "cell_type": "markdown",
   "id": "bfcb64d7",
   "metadata": {},
   "source": [
    "### 3.6. Identificar e gerenciar dados fora do escopo da análise"
   ]
  },
  {
   "cell_type": "code",
   "execution_count": 149,
   "id": "e808ffea",
   "metadata": {},
   "outputs": [
    {
     "name": "stdout",
     "output_type": "stream",
     "text": [
      "Coluna EmployeeCount é constante e pode ser removida.\n",
      "Coluna Over18 é constante e pode ser removida.\n",
      "Coluna StandardHours é constante e pode ser removida.\n"
     ]
    }
   ],
   "source": [
    "# Verificar colunas com um único valor\n",
    "for col in df.columns:\n",
    "    if df[col].nunique() == 1:\n",
    "        print(f\"Coluna {col} é constante e pode ser removida.\")"
   ]
  },
  {
   "cell_type": "code",
   "execution_count": 150,
   "id": "1b086e71",
   "metadata": {},
   "outputs": [],
   "source": [
    "df = df.drop(columns=[\"EmployeeCount\", \"Over18\", \"StandardHours\"])"
   ]
  },
  {
   "cell_type": "markdown",
   "id": "3c8d502a",
   "metadata": {},
   "source": [
    "## 4. Criar novas variáveis"
   ]
  },
  {
   "cell_type": "code",
   "execution_count": 151,
   "id": "2eda8cc8",
   "metadata": {},
   "outputs": [],
   "source": [
    "# Faixa Etária\n",
    "\n",
    "df[\"AgeGroup\"] = pd.cut(df[\"Age\"], bins=[18, 30, 40, 50, 60], \n",
    "                        labels=[\"18-30\", \"31-40\", \"41-50\", \"51-60\"])"
   ]
  },
  {
   "cell_type": "code",
   "execution_count": 152,
   "id": "4785a462",
   "metadata": {},
   "outputs": [],
   "source": [
    "# Tempo de caso relativo: proporção entre YearsAtCompany e TotalWorkingYears\n",
    "\n",
    "df[\"PercYearsAtCompany\"] = df[\"YearsAtCompany\"] / (df[\"TotalWorkingYears\"] + 1)"
   ]
  },
  {
   "cell_type": "code",
   "execution_count": 153,
   "id": "28ab760b",
   "metadata": {},
   "outputs": [],
   "source": [
    "# Tempo médio por empresa\n",
    "\n",
    "df['AvgYearsPerCompany'] = df['TotalWorkingYears'] / (df['NumCompaniesWorked'].replace(0,1))"
   ]
  },
  {
   "cell_type": "code",
   "execution_count": 154,
   "id": "88a3ffa4",
   "metadata": {},
   "outputs": [],
   "source": [
    "# Taxa de promoção\n",
    "\n",
    "df['PromotionRate'] = df['YearsSinceLastPromotion'] / (df['TotalWorkingYears'] + 1)"
   ]
  },
  {
   "cell_type": "code",
   "execution_count": 155,
   "id": "4c30337c",
   "metadata": {},
   "outputs": [],
   "source": [
    "# Categoria de renda: agrupar MonthlyIncome em faixas\n",
    "\n",
    "df[\"IncomeGroup\"] = pd.qcut(df[\"MonthlyIncome\"], q=4, labels=[\"Baixo\", \"Médio\", \"Alto\", \"Muito Alto\"])"
   ]
  },
  {
   "cell_type": "code",
   "execution_count": 156,
   "id": "712515cb",
   "metadata": {},
   "outputs": [],
   "source": [
    "# Distância de casa (binário: 0=perto, 1=longe)\n",
    "\n",
    "df['FarFromHome'] = (df['DistanceFromHome'] > df['DistanceFromHome'].median()).astype(int)"
   ]
  },
  {
   "cell_type": "code",
   "execution_count": 157,
   "id": "bc534fdf",
   "metadata": {},
   "outputs": [],
   "source": [
    "# Experiência em múltiplas empresas: binária (se já trabalhou em mais de 3 empresas)\n",
    "\n",
    "df[\"MultiCompanyExp\"] = (df[\"NumCompaniesWorked\"] > 3).astype(int)"
   ]
  },
  {
   "cell_type": "code",
   "execution_count": 158,
   "id": "376aae67",
   "metadata": {},
   "outputs": [],
   "source": [
    "# Proporção de tempo de carreira na empresa atual\n",
    "\n",
    "df['CompanyExperienceRatio'] = df['YearsAtCompany'] / (df['TotalWorkingYears'] + 1)"
   ]
  },
  {
   "cell_type": "code",
   "execution_count": 159,
   "id": "25a1ae22",
   "metadata": {},
   "outputs": [],
   "source": [
    "# Gap desde última promoção:\n",
    "## Criar indicador se ficou >5 anos sem promoção.\n",
    "\n",
    "df[\"LongTimeNoPromotion\"] = (df[\"YearsSinceLastPromotion\"] > 5).astype(int)"
   ]
  },
  {
   "cell_type": "code",
   "execution_count": 160,
   "id": "85140f4d",
   "metadata": {},
   "outputs": [
    {
     "name": "stdout",
     "output_type": "stream",
     "text": [
      "<class 'pandas.core.frame.DataFrame'>\n",
      "RangeIndex: 4410 entries, 0 to 4409\n",
      "Data columns (total 30 columns):\n",
      " #   Column                   Non-Null Count  Dtype   \n",
      "---  ------                   --------------  -----   \n",
      " 0   Age                      4410 non-null   int64   \n",
      " 1   Attrition                4410 non-null   int64   \n",
      " 2   BusinessTravel           4410 non-null   object  \n",
      " 3   Department               4410 non-null   object  \n",
      " 4   DistanceFromHome         4410 non-null   int64   \n",
      " 5   Education                4410 non-null   int64   \n",
      " 6   EducationField           4410 non-null   object  \n",
      " 7   EmployeeID               4410 non-null   int64   \n",
      " 8   Gender                   4410 non-null   object  \n",
      " 9   JobLevel                 4410 non-null   int64   \n",
      " 10  JobRole                  4410 non-null   object  \n",
      " 11  MaritalStatus            4410 non-null   object  \n",
      " 12  MonthlyIncome            4410 non-null   int64   \n",
      " 13  NumCompaniesWorked       4410 non-null   float64 \n",
      " 14  PercentSalaryHike        4410 non-null   int64   \n",
      " 15  StockOptionLevel         4410 non-null   int64   \n",
      " 16  TotalWorkingYears        4410 non-null   float64 \n",
      " 17  TrainingTimesLastYear    4410 non-null   int64   \n",
      " 18  YearsAtCompany           4410 non-null   int64   \n",
      " 19  YearsSinceLastPromotion  4410 non-null   int64   \n",
      " 20  YearsWithCurrManager     4410 non-null   int64   \n",
      " 21  AgeGroup                 4386 non-null   category\n",
      " 22  PercYearsAtCompany       4410 non-null   float64 \n",
      " 23  AvgYearsPerCompany       4410 non-null   float64 \n",
      " 24  PromotionRate            4410 non-null   float64 \n",
      " 25  IncomeGroup              4410 non-null   category\n",
      " 26  FarFromHome              4410 non-null   int64   \n",
      " 27  MultiCompanyExp          4410 non-null   int64   \n",
      " 28  CompanyExperienceRatio   4410 non-null   float64 \n",
      " 29  LongTimeNoPromotion      4410 non-null   int64   \n",
      "dtypes: category(2), float64(6), int64(16), object(6)\n",
      "memory usage: 973.8+ KB\n"
     ]
    }
   ],
   "source": [
    "df.info()"
   ]
  },
  {
   "cell_type": "markdown",
   "id": "f5d52553",
   "metadata": {},
   "source": [
    "## 5. Dividir a base em treino e teste"
   ]
  },
  {
   "cell_type": "code",
   "execution_count": 161,
   "id": "88d6ee69",
   "metadata": {},
   "outputs": [],
   "source": [
    "# Definindo variáveis\n",
    "X = df.drop(columns=[\"Attrition\"])  # features (explicativas)\n",
    "y = df[\"Attrition\"]                 # target (variável resposta)"
   ]
  },
  {
   "cell_type": "code",
   "execution_count": 162,
   "id": "06b88d47",
   "metadata": {},
   "outputs": [],
   "source": [
    "# Divisão em treino e teste\n",
    "X_train, X_test, y_train, y_test = train_test_split(\n",
    "    X, y, \n",
    "    test_size=0.2,        # 20% teste, 80% treino\n",
    "    random_state=42,      # seed para reprodutibilidade\n",
    "    stratify=y            # mantém a proporção do target\n",
    ")"
   ]
  },
  {
   "cell_type": "code",
   "execution_count": 163,
   "id": "1914dcce",
   "metadata": {},
   "outputs": [
    {
     "name": "stdout",
     "output_type": "stream",
     "text": [
      "Tamanho do treino: (3528, 29)\n",
      "Tamanho do teste: (882, 29)\n",
      "Proporção no treino: Attrition\n",
      "0    0.838719\n",
      "1    0.161281\n",
      "Name: proportion, dtype: float64\n",
      "Proporção no teste: Attrition\n",
      "0    0.839002\n",
      "1    0.160998\n",
      "Name: proportion, dtype: float64\n"
     ]
    }
   ],
   "source": [
    "print(\"Tamanho do treino:\", X_train.shape)\n",
    "print(\"Tamanho do teste:\", X_test.shape)\n",
    "print(\"Proporção no treino:\", y_train.value_counts(normalize=True))\n",
    "print(\"Proporção no teste:\", y_test.value_counts(normalize=True))"
   ]
  },
  {
   "cell_type": "markdown",
   "id": "a6c61372",
   "metadata": {},
   "source": [
    "## 6. Fazer uma análise exploratória - EDA"
   ]
  },
  {
   "cell_type": "markdown",
   "id": "aa19dd30",
   "metadata": {},
   "source": [
    "### 6.1. Agrupar e visualizar dados de acordo com variáveis categóricas"
   ]
  },
  {
   "cell_type": "code",
   "execution_count": 164,
   "id": "ade3b096",
   "metadata": {},
   "outputs": [
    {
     "data": {
      "text/plain": [
       "Index(['BusinessTravel', 'Department', 'EducationField', 'Gender', 'JobRole',\n",
       "       'MaritalStatus'],\n",
       "      dtype='object')"
      ]
     },
     "execution_count": 164,
     "metadata": {},
     "output_type": "execute_result"
    }
   ],
   "source": [
    "df.select_dtypes(include='object').columns"
   ]
  },
  {
   "cell_type": "code",
   "execution_count": 165,
   "id": "d8c4de0a",
   "metadata": {},
   "outputs": [
    {
     "data": {
      "text/plain": [
       "Index(['AgeGroup', 'IncomeGroup'], dtype='object')"
      ]
     },
     "execution_count": 165,
     "metadata": {},
     "output_type": "execute_result"
    }
   ],
   "source": [
    "df.select_dtypes(include='category').columns"
   ]
  },
  {
   "cell_type": "code",
   "execution_count": 166,
   "id": "67dbc31c",
   "metadata": {},
   "outputs": [
    {
     "data": {
      "text/html": [
       "<div>\n",
       "<style scoped>\n",
       "    .dataframe tbody tr th:only-of-type {\n",
       "        vertical-align: middle;\n",
       "    }\n",
       "\n",
       "    .dataframe tbody tr th {\n",
       "        vertical-align: top;\n",
       "    }\n",
       "\n",
       "    .dataframe thead th {\n",
       "        text-align: right;\n",
       "    }\n",
       "</style>\n",
       "<table border=\"1\" class=\"dataframe\">\n",
       "  <thead>\n",
       "    <tr style=\"text-align: right;\">\n",
       "      <th></th>\n",
       "      <th>Age</th>\n",
       "      <th>DistanceFromHome</th>\n",
       "      <th>Education</th>\n",
       "      <th>EmployeeID</th>\n",
       "      <th>JobLevel</th>\n",
       "      <th>MonthlyIncome</th>\n",
       "      <th>NumCompaniesWorked</th>\n",
       "      <th>PercentSalaryHike</th>\n",
       "      <th>StockOptionLevel</th>\n",
       "      <th>TotalWorkingYears</th>\n",
       "      <th>...</th>\n",
       "      <th>YearsAtCompany</th>\n",
       "      <th>YearsSinceLastPromotion</th>\n",
       "      <th>YearsWithCurrManager</th>\n",
       "      <th>PercYearsAtCompany</th>\n",
       "      <th>AvgYearsPerCompany</th>\n",
       "      <th>PromotionRate</th>\n",
       "      <th>FarFromHome</th>\n",
       "      <th>MultiCompanyExp</th>\n",
       "      <th>CompanyExperienceRatio</th>\n",
       "      <th>LongTimeNoPromotion</th>\n",
       "    </tr>\n",
       "    <tr>\n",
       "      <th>Attrition</th>\n",
       "      <th></th>\n",
       "      <th></th>\n",
       "      <th></th>\n",
       "      <th></th>\n",
       "      <th></th>\n",
       "      <th></th>\n",
       "      <th></th>\n",
       "      <th></th>\n",
       "      <th></th>\n",
       "      <th></th>\n",
       "      <th></th>\n",
       "      <th></th>\n",
       "      <th></th>\n",
       "      <th></th>\n",
       "      <th></th>\n",
       "      <th></th>\n",
       "      <th></th>\n",
       "      <th></th>\n",
       "      <th></th>\n",
       "      <th></th>\n",
       "      <th></th>\n",
       "    </tr>\n",
       "  </thead>\n",
       "  <tbody>\n",
       "    <tr>\n",
       "      <th>0</th>\n",
       "      <td>37.561233</td>\n",
       "      <td>9.227088</td>\n",
       "      <td>2.919708</td>\n",
       "      <td>2208.139497</td>\n",
       "      <td>2.068938</td>\n",
       "      <td>65672.595296</td>\n",
       "      <td>2.781563</td>\n",
       "      <td>15.157340</td>\n",
       "      <td>0.796431</td>\n",
       "      <td>11.859151</td>\n",
       "      <td>...</td>\n",
       "      <td>7.369019</td>\n",
       "      <td>2.234388</td>\n",
       "      <td>4.367397</td>\n",
       "      <td>0.593643</td>\n",
       "      <td>6.520056</td>\n",
       "      <td>0.173571</td>\n",
       "      <td>0.472019</td>\n",
       "      <td>0.293593</td>\n",
       "      <td>0.593643</td>\n",
       "      <td>0.145985</td>\n",
       "    </tr>\n",
       "    <tr>\n",
       "      <th>1</th>\n",
       "      <td>33.607595</td>\n",
       "      <td>9.012658</td>\n",
       "      <td>2.877637</td>\n",
       "      <td>2191.767932</td>\n",
       "      <td>2.037975</td>\n",
       "      <td>61682.616034</td>\n",
       "      <td>3.022504</td>\n",
       "      <td>15.481013</td>\n",
       "      <td>0.780591</td>\n",
       "      <td>8.240506</td>\n",
       "      <td>...</td>\n",
       "      <td>5.130802</td>\n",
       "      <td>1.945148</td>\n",
       "      <td>2.852321</td>\n",
       "      <td>0.522314</td>\n",
       "      <td>4.212375</td>\n",
       "      <td>0.186326</td>\n",
       "      <td>0.476793</td>\n",
       "      <td>0.350211</td>\n",
       "      <td>0.522314</td>\n",
       "      <td>0.147679</td>\n",
       "    </tr>\n",
       "  </tbody>\n",
       "</table>\n",
       "<p>2 rows × 21 columns</p>\n",
       "</div>"
      ],
      "text/plain": [
       "                 Age  DistanceFromHome  Education   EmployeeID  JobLevel  \\\n",
       "Attrition                                                                  \n",
       "0          37.561233          9.227088   2.919708  2208.139497  2.068938   \n",
       "1          33.607595          9.012658   2.877637  2191.767932  2.037975   \n",
       "\n",
       "           MonthlyIncome  NumCompaniesWorked  PercentSalaryHike  \\\n",
       "Attrition                                                         \n",
       "0           65672.595296            2.781563          15.157340   \n",
       "1           61682.616034            3.022504          15.481013   \n",
       "\n",
       "           StockOptionLevel  TotalWorkingYears  ...  YearsAtCompany  \\\n",
       "Attrition                                       ...                   \n",
       "0                  0.796431          11.859151  ...        7.369019   \n",
       "1                  0.780591           8.240506  ...        5.130802   \n",
       "\n",
       "           YearsSinceLastPromotion  YearsWithCurrManager  PercYearsAtCompany  \\\n",
       "Attrition                                                                      \n",
       "0                         2.234388              4.367397            0.593643   \n",
       "1                         1.945148              2.852321            0.522314   \n",
       "\n",
       "           AvgYearsPerCompany  PromotionRate  FarFromHome  MultiCompanyExp  \\\n",
       "Attrition                                                                    \n",
       "0                    6.520056       0.173571     0.472019         0.293593   \n",
       "1                    4.212375       0.186326     0.476793         0.350211   \n",
       "\n",
       "           CompanyExperienceRatio  LongTimeNoPromotion  \n",
       "Attrition                                               \n",
       "0                        0.593643             0.145985  \n",
       "1                        0.522314             0.147679  \n",
       "\n",
       "[2 rows x 21 columns]"
      ]
     },
     "execution_count": 166,
     "metadata": {},
     "output_type": "execute_result"
    }
   ],
   "source": [
    "# Comparar médias das variáveis numéricas entre quem saiu (1) e ficou (0)\n",
    "\n",
    "df.groupby('Attrition').mean(numeric_only=True)"
   ]
  },
  {
   "cell_type": "code",
   "execution_count": 167,
   "id": "df7099bf",
   "metadata": {},
   "outputs": [
    {
     "name": "stdout",
     "output_type": "stream",
     "text": [
      "PercentSalaryHike             0.323673\n",
      "NumCompaniesWorked            0.240941\n",
      "MultiCompanyExp               0.056618\n",
      "PromotionRate                 0.012754\n",
      "FarFromHome                   0.004774\n",
      "LongTimeNoPromotion           0.001694\n",
      "StockOptionLevel             -0.015841\n",
      "JobLevel                     -0.030963\n",
      "Education                    -0.042071\n",
      "CompanyExperienceRatio       -0.071329\n",
      "PercYearsAtCompany           -0.071329\n",
      "TrainingTimesLastYear        -0.173242\n",
      "DistanceFromHome             -0.214430\n",
      "YearsSinceLastPromotion      -0.289240\n",
      "YearsWithCurrManager         -1.515076\n",
      "YearsAtCompany               -2.238217\n",
      "AvgYearsPerCompany           -2.307681\n",
      "TotalWorkingYears            -3.618645\n",
      "Age                          -3.953638\n",
      "EmployeeID                  -16.371565\n",
      "MonthlyIncome             -3989.979262\n",
      "Name: 1, dtype: float64\n"
     ]
    }
   ],
   "source": [
    "# Diferença de médias entre os grupos\n",
    "\n",
    "mean_diff = df.groupby('Attrition').mean(numeric_only=True).diff().iloc[-1].sort_values(ascending=False)\n",
    "print(mean_diff)"
   ]
  },
  {
   "cell_type": "markdown",
   "id": "b791f1e0",
   "metadata": {},
   "source": [
    "#### 6.1.1. Departament"
   ]
  },
  {
   "cell_type": "code",
   "execution_count": 168,
   "id": "378b7d1a",
   "metadata": {},
   "outputs": [
    {
     "name": "stdout",
     "output_type": "stream",
     "text": [
      "Department\n",
      "Human Resources           0.301587\n",
      "Research & Development    0.157128\n",
      "Sales                     0.150224\n",
      "Name: Attrition, dtype: float64\n"
     ]
    }
   ],
   "source": [
    "attrition_by_dept = df.groupby('Department')['Attrition'].mean().sort_values(ascending=False)\n",
    "print(attrition_by_dept)"
   ]
  },
  {
   "cell_type": "code",
   "execution_count": 169,
   "id": "232fd9e4",
   "metadata": {},
   "outputs": [
    {
     "data": {
      "text/html": [
       "<div>\n",
       "<style scoped>\n",
       "    .dataframe tbody tr th:only-of-type {\n",
       "        vertical-align: middle;\n",
       "    }\n",
       "\n",
       "    .dataframe tbody tr th {\n",
       "        vertical-align: top;\n",
       "    }\n",
       "\n",
       "    .dataframe thead th {\n",
       "        text-align: right;\n",
       "    }\n",
       "</style>\n",
       "<table border=\"1\" class=\"dataframe\">\n",
       "  <thead>\n",
       "    <tr style=\"text-align: right;\">\n",
       "      <th>Attrition</th>\n",
       "      <th>0</th>\n",
       "      <th>1</th>\n",
       "    </tr>\n",
       "    <tr>\n",
       "      <th>Department</th>\n",
       "      <th></th>\n",
       "      <th></th>\n",
       "    </tr>\n",
       "  </thead>\n",
       "  <tbody>\n",
       "    <tr>\n",
       "      <th>Human Resources</th>\n",
       "      <td>69.841270</td>\n",
       "      <td>30.158730</td>\n",
       "    </tr>\n",
       "    <tr>\n",
       "      <th>Research &amp; Development</th>\n",
       "      <td>84.287201</td>\n",
       "      <td>15.712799</td>\n",
       "    </tr>\n",
       "    <tr>\n",
       "      <th>Sales</th>\n",
       "      <td>84.977578</td>\n",
       "      <td>15.022422</td>\n",
       "    </tr>\n",
       "  </tbody>\n",
       "</table>\n",
       "</div>"
      ],
      "text/plain": [
       "Attrition                       0          1\n",
       "Department                                  \n",
       "Human Resources         69.841270  30.158730\n",
       "Research & Development  84.287201  15.712799\n",
       "Sales                   84.977578  15.022422"
      ]
     },
     "execution_count": 169,
     "metadata": {},
     "output_type": "execute_result"
    }
   ],
   "source": [
    "pd.crosstab(df['Department'], df['Attrition'], normalize='index') * 100"
   ]
  },
  {
   "cell_type": "markdown",
   "id": "68155bc7",
   "metadata": {},
   "source": [
    "#### 6.1.2. Marital Status"
   ]
  },
  {
   "cell_type": "code",
   "execution_count": 170,
   "id": "9a0a7be7",
   "metadata": {},
   "outputs": [
    {
     "name": "stdout",
     "output_type": "stream",
     "text": [
      "MaritalStatus\n",
      "Single      0.255319\n",
      "Married     0.124814\n",
      "Divorced    0.100917\n",
      "Name: Attrition, dtype: float64\n"
     ]
    }
   ],
   "source": [
    "attrition_by_marital = df.groupby('MaritalStatus')['Attrition'].mean().sort_values(ascending=False)\n",
    "print(attrition_by_marital)"
   ]
  },
  {
   "cell_type": "code",
   "execution_count": 171,
   "id": "9c5d4e69",
   "metadata": {},
   "outputs": [
    {
     "data": {
      "text/html": [
       "<div>\n",
       "<style scoped>\n",
       "    .dataframe tbody tr th:only-of-type {\n",
       "        vertical-align: middle;\n",
       "    }\n",
       "\n",
       "    .dataframe tbody tr th {\n",
       "        vertical-align: top;\n",
       "    }\n",
       "\n",
       "    .dataframe thead th {\n",
       "        text-align: right;\n",
       "    }\n",
       "</style>\n",
       "<table border=\"1\" class=\"dataframe\">\n",
       "  <thead>\n",
       "    <tr style=\"text-align: right;\">\n",
       "      <th>Attrition</th>\n",
       "      <th>0</th>\n",
       "      <th>1</th>\n",
       "    </tr>\n",
       "    <tr>\n",
       "      <th>MaritalStatus</th>\n",
       "      <th></th>\n",
       "      <th></th>\n",
       "    </tr>\n",
       "  </thead>\n",
       "  <tbody>\n",
       "    <tr>\n",
       "      <th>Divorced</th>\n",
       "      <td>89.908257</td>\n",
       "      <td>10.091743</td>\n",
       "    </tr>\n",
       "    <tr>\n",
       "      <th>Married</th>\n",
       "      <td>87.518574</td>\n",
       "      <td>12.481426</td>\n",
       "    </tr>\n",
       "    <tr>\n",
       "      <th>Single</th>\n",
       "      <td>74.468085</td>\n",
       "      <td>25.531915</td>\n",
       "    </tr>\n",
       "  </tbody>\n",
       "</table>\n",
       "</div>"
      ],
      "text/plain": [
       "Attrition              0          1\n",
       "MaritalStatus                      \n",
       "Divorced       89.908257  10.091743\n",
       "Married        87.518574  12.481426\n",
       "Single         74.468085  25.531915"
      ]
     },
     "execution_count": 171,
     "metadata": {},
     "output_type": "execute_result"
    }
   ],
   "source": [
    "pd.crosstab(df['MaritalStatus'], df['Attrition'], normalize='index') * 100"
   ]
  },
  {
   "cell_type": "markdown",
   "id": "c3a468fc",
   "metadata": {},
   "source": [
    "#### 6.1.3. Age Group"
   ]
  },
  {
   "cell_type": "code",
   "execution_count": 172,
   "id": "64d65b20",
   "metadata": {},
   "outputs": [
    {
     "name": "stdout",
     "output_type": "stream",
     "text": [
      "AgeGroup\n",
      "18-30    0.253968\n",
      "31-40    0.137318\n",
      "51-60    0.125874\n",
      "41-50    0.105590\n",
      "Name: Attrition, dtype: float64\n"
     ]
    },
    {
     "name": "stderr",
     "output_type": "stream",
     "text": [
      "C:\\Users\\Notebook\\AppData\\Local\\Temp\\ipykernel_18284\\3131432480.py:1: FutureWarning: The default of observed=False is deprecated and will be changed to True in a future version of pandas. Pass observed=False to retain current behavior or observed=True to adopt the future default and silence this warning.\n",
      "  attrition_by_age = df.groupby('AgeGroup')['Attrition'].mean().sort_values(ascending=False)\n"
     ]
    }
   ],
   "source": [
    "attrition_by_age = df.groupby('AgeGroup')['Attrition'].mean().sort_values(ascending=False)\n",
    "print(attrition_by_age)"
   ]
  },
  {
   "cell_type": "code",
   "execution_count": 173,
   "id": "38f8d75b",
   "metadata": {},
   "outputs": [
    {
     "data": {
      "text/html": [
       "<div>\n",
       "<style scoped>\n",
       "    .dataframe tbody tr th:only-of-type {\n",
       "        vertical-align: middle;\n",
       "    }\n",
       "\n",
       "    .dataframe tbody tr th {\n",
       "        vertical-align: top;\n",
       "    }\n",
       "\n",
       "    .dataframe thead th {\n",
       "        text-align: right;\n",
       "    }\n",
       "</style>\n",
       "<table border=\"1\" class=\"dataframe\">\n",
       "  <thead>\n",
       "    <tr style=\"text-align: right;\">\n",
       "      <th>Attrition</th>\n",
       "      <th>0</th>\n",
       "      <th>1</th>\n",
       "    </tr>\n",
       "    <tr>\n",
       "      <th>AgeGroup</th>\n",
       "      <th></th>\n",
       "      <th></th>\n",
       "    </tr>\n",
       "  </thead>\n",
       "  <tbody>\n",
       "    <tr>\n",
       "      <th>18-30</th>\n",
       "      <td>74.603175</td>\n",
       "      <td>25.396825</td>\n",
       "    </tr>\n",
       "    <tr>\n",
       "      <th>31-40</th>\n",
       "      <td>86.268174</td>\n",
       "      <td>13.731826</td>\n",
       "    </tr>\n",
       "    <tr>\n",
       "      <th>41-50</th>\n",
       "      <td>89.440994</td>\n",
       "      <td>10.559006</td>\n",
       "    </tr>\n",
       "    <tr>\n",
       "      <th>51-60</th>\n",
       "      <td>87.412587</td>\n",
       "      <td>12.587413</td>\n",
       "    </tr>\n",
       "  </tbody>\n",
       "</table>\n",
       "</div>"
      ],
      "text/plain": [
       "Attrition          0          1\n",
       "AgeGroup                       \n",
       "18-30      74.603175  25.396825\n",
       "31-40      86.268174  13.731826\n",
       "41-50      89.440994  10.559006\n",
       "51-60      87.412587  12.587413"
      ]
     },
     "execution_count": 173,
     "metadata": {},
     "output_type": "execute_result"
    }
   ],
   "source": [
    "pd.crosstab(df['AgeGroup'], df['Attrition'], normalize='index') * 100"
   ]
  },
  {
   "cell_type": "markdown",
   "id": "232433be",
   "metadata": {},
   "source": [
    "#### 6.1.4. Job Role"
   ]
  },
  {
   "cell_type": "code",
   "execution_count": 174,
   "id": "54acb426",
   "metadata": {},
   "outputs": [
    {
     "name": "stdout",
     "output_type": "stream",
     "text": [
      "JobRole\n",
      "Research Director            0.237500\n",
      "Research Scientist           0.181507\n",
      "Sales Executive              0.168712\n",
      "Laboratory Technician        0.162162\n",
      "Healthcare Representative    0.145038\n",
      "Sales Representative         0.144578\n",
      "Manager                      0.137255\n",
      "Human Resources              0.134615\n",
      "Manufacturing Director       0.110345\n",
      "Name: Attrition, dtype: float64\n"
     ]
    }
   ],
   "source": [
    "attrition_job_role = df.groupby('JobRole')['Attrition'].mean().sort_values(ascending=False)\n",
    "print(attrition_job_role)"
   ]
  },
  {
   "cell_type": "code",
   "execution_count": 175,
   "id": "e9c51c07",
   "metadata": {},
   "outputs": [
    {
     "data": {
      "text/html": [
       "<div>\n",
       "<style scoped>\n",
       "    .dataframe tbody tr th:only-of-type {\n",
       "        vertical-align: middle;\n",
       "    }\n",
       "\n",
       "    .dataframe tbody tr th {\n",
       "        vertical-align: top;\n",
       "    }\n",
       "\n",
       "    .dataframe thead th {\n",
       "        text-align: right;\n",
       "    }\n",
       "</style>\n",
       "<table border=\"1\" class=\"dataframe\">\n",
       "  <thead>\n",
       "    <tr style=\"text-align: right;\">\n",
       "      <th>Attrition</th>\n",
       "      <th>0</th>\n",
       "      <th>1</th>\n",
       "    </tr>\n",
       "    <tr>\n",
       "      <th>JobRole</th>\n",
       "      <th></th>\n",
       "      <th></th>\n",
       "    </tr>\n",
       "  </thead>\n",
       "  <tbody>\n",
       "    <tr>\n",
       "      <th>Healthcare Representative</th>\n",
       "      <td>85.496183</td>\n",
       "      <td>14.503817</td>\n",
       "    </tr>\n",
       "    <tr>\n",
       "      <th>Human Resources</th>\n",
       "      <td>86.538462</td>\n",
       "      <td>13.461538</td>\n",
       "    </tr>\n",
       "    <tr>\n",
       "      <th>Laboratory Technician</th>\n",
       "      <td>83.783784</td>\n",
       "      <td>16.216216</td>\n",
       "    </tr>\n",
       "    <tr>\n",
       "      <th>Manager</th>\n",
       "      <td>86.274510</td>\n",
       "      <td>13.725490</td>\n",
       "    </tr>\n",
       "    <tr>\n",
       "      <th>Manufacturing Director</th>\n",
       "      <td>88.965517</td>\n",
       "      <td>11.034483</td>\n",
       "    </tr>\n",
       "    <tr>\n",
       "      <th>Research Director</th>\n",
       "      <td>76.250000</td>\n",
       "      <td>23.750000</td>\n",
       "    </tr>\n",
       "    <tr>\n",
       "      <th>Research Scientist</th>\n",
       "      <td>81.849315</td>\n",
       "      <td>18.150685</td>\n",
       "    </tr>\n",
       "    <tr>\n",
       "      <th>Sales Executive</th>\n",
       "      <td>83.128834</td>\n",
       "      <td>16.871166</td>\n",
       "    </tr>\n",
       "    <tr>\n",
       "      <th>Sales Representative</th>\n",
       "      <td>85.542169</td>\n",
       "      <td>14.457831</td>\n",
       "    </tr>\n",
       "  </tbody>\n",
       "</table>\n",
       "</div>"
      ],
      "text/plain": [
       "Attrition                          0          1\n",
       "JobRole                                        \n",
       "Healthcare Representative  85.496183  14.503817\n",
       "Human Resources            86.538462  13.461538\n",
       "Laboratory Technician      83.783784  16.216216\n",
       "Manager                    86.274510  13.725490\n",
       "Manufacturing Director     88.965517  11.034483\n",
       "Research Director          76.250000  23.750000\n",
       "Research Scientist         81.849315  18.150685\n",
       "Sales Executive            83.128834  16.871166\n",
       "Sales Representative       85.542169  14.457831"
      ]
     },
     "execution_count": 175,
     "metadata": {},
     "output_type": "execute_result"
    }
   ],
   "source": [
    "pd.crosstab(df['JobRole'], df['Attrition'], normalize='index') * 100"
   ]
  },
  {
   "cell_type": "markdown",
   "id": "ed3e0400",
   "metadata": {},
   "source": [
    "#### 6.1.5. Business Travel"
   ]
  },
  {
   "cell_type": "code",
   "execution_count": 176,
   "id": "70c819f8",
   "metadata": {},
   "outputs": [
    {
     "name": "stdout",
     "output_type": "stream",
     "text": [
      "BusinessTravel\n",
      "Travel_Frequently    0.249097\n",
      "Travel_Rarely        0.149569\n",
      "Non-Travel           0.080000\n",
      "Name: Attrition, dtype: float64\n"
     ]
    }
   ],
   "source": [
    "attrition_business_trave = df.groupby('BusinessTravel')['Attrition'].mean().sort_values(ascending=False)\n",
    "print(attrition_business_trave)"
   ]
  },
  {
   "cell_type": "code",
   "execution_count": 177,
   "id": "c7e2ded2",
   "metadata": {},
   "outputs": [
    {
     "data": {
      "text/html": [
       "<div>\n",
       "<style scoped>\n",
       "    .dataframe tbody tr th:only-of-type {\n",
       "        vertical-align: middle;\n",
       "    }\n",
       "\n",
       "    .dataframe tbody tr th {\n",
       "        vertical-align: top;\n",
       "    }\n",
       "\n",
       "    .dataframe thead th {\n",
       "        text-align: right;\n",
       "    }\n",
       "</style>\n",
       "<table border=\"1\" class=\"dataframe\">\n",
       "  <thead>\n",
       "    <tr style=\"text-align: right;\">\n",
       "      <th>Attrition</th>\n",
       "      <th>0</th>\n",
       "      <th>1</th>\n",
       "    </tr>\n",
       "    <tr>\n",
       "      <th>BusinessTravel</th>\n",
       "      <th></th>\n",
       "      <th></th>\n",
       "    </tr>\n",
       "  </thead>\n",
       "  <tbody>\n",
       "    <tr>\n",
       "      <th>Non-Travel</th>\n",
       "      <td>92.000000</td>\n",
       "      <td>8.000000</td>\n",
       "    </tr>\n",
       "    <tr>\n",
       "      <th>Travel_Frequently</th>\n",
       "      <td>75.090253</td>\n",
       "      <td>24.909747</td>\n",
       "    </tr>\n",
       "    <tr>\n",
       "      <th>Travel_Rarely</th>\n",
       "      <td>85.043145</td>\n",
       "      <td>14.956855</td>\n",
       "    </tr>\n",
       "  </tbody>\n",
       "</table>\n",
       "</div>"
      ],
      "text/plain": [
       "Attrition                  0          1\n",
       "BusinessTravel                         \n",
       "Non-Travel         92.000000   8.000000\n",
       "Travel_Frequently  75.090253  24.909747\n",
       "Travel_Rarely      85.043145  14.956855"
      ]
     },
     "execution_count": 177,
     "metadata": {},
     "output_type": "execute_result"
    }
   ],
   "source": [
    "pd.crosstab(df['BusinessTravel'], df['Attrition'], normalize='index') * 100"
   ]
  },
  {
   "cell_type": "markdown",
   "id": "90d20410",
   "metadata": {},
   "source": [
    "#### 6.1.6. In Come Group"
   ]
  },
  {
   "cell_type": "code",
   "execution_count": 178,
   "id": "f670f208",
   "metadata": {},
   "outputs": [
    {
     "name": "stdout",
     "output_type": "stream",
     "text": [
      "IncomeGroup\n",
      "Alto          0.187500\n",
      "Baixo         0.181572\n",
      "Médio         0.142077\n",
      "Muito Alto    0.133515\n",
      "Name: Attrition, dtype: float64\n"
     ]
    },
    {
     "name": "stderr",
     "output_type": "stream",
     "text": [
      "C:\\Users\\Notebook\\AppData\\Local\\Temp\\ipykernel_18284\\2920599376.py:1: FutureWarning: The default of observed=False is deprecated and will be changed to True in a future version of pandas. Pass observed=False to retain current behavior or observed=True to adopt the future default and silence this warning.\n",
      "  attrition_in_come = df.groupby('IncomeGroup')['Attrition'].mean().sort_values(ascending=False)\n"
     ]
    }
   ],
   "source": [
    "attrition_in_come = df.groupby('IncomeGroup')['Attrition'].mean().sort_values(ascending=False)\n",
    "print(attrition_in_come)"
   ]
  },
  {
   "cell_type": "code",
   "execution_count": 179,
   "id": "8bf6b1ec",
   "metadata": {},
   "outputs": [
    {
     "data": {
      "text/html": [
       "<div>\n",
       "<style scoped>\n",
       "    .dataframe tbody tr th:only-of-type {\n",
       "        vertical-align: middle;\n",
       "    }\n",
       "\n",
       "    .dataframe tbody tr th {\n",
       "        vertical-align: top;\n",
       "    }\n",
       "\n",
       "    .dataframe thead th {\n",
       "        text-align: right;\n",
       "    }\n",
       "</style>\n",
       "<table border=\"1\" class=\"dataframe\">\n",
       "  <thead>\n",
       "    <tr style=\"text-align: right;\">\n",
       "      <th>Attrition</th>\n",
       "      <th>0</th>\n",
       "      <th>1</th>\n",
       "    </tr>\n",
       "    <tr>\n",
       "      <th>IncomeGroup</th>\n",
       "      <th></th>\n",
       "      <th></th>\n",
       "    </tr>\n",
       "  </thead>\n",
       "  <tbody>\n",
       "    <tr>\n",
       "      <th>Baixo</th>\n",
       "      <td>81.842818</td>\n",
       "      <td>18.157182</td>\n",
       "    </tr>\n",
       "    <tr>\n",
       "      <th>Médio</th>\n",
       "      <td>85.792350</td>\n",
       "      <td>14.207650</td>\n",
       "    </tr>\n",
       "    <tr>\n",
       "      <th>Alto</th>\n",
       "      <td>81.250000</td>\n",
       "      <td>18.750000</td>\n",
       "    </tr>\n",
       "    <tr>\n",
       "      <th>Muito Alto</th>\n",
       "      <td>86.648501</td>\n",
       "      <td>13.351499</td>\n",
       "    </tr>\n",
       "  </tbody>\n",
       "</table>\n",
       "</div>"
      ],
      "text/plain": [
       "Attrition            0          1\n",
       "IncomeGroup                      \n",
       "Baixo        81.842818  18.157182\n",
       "Médio        85.792350  14.207650\n",
       "Alto         81.250000  18.750000\n",
       "Muito Alto   86.648501  13.351499"
      ]
     },
     "execution_count": 179,
     "metadata": {},
     "output_type": "execute_result"
    }
   ],
   "source": [
    "pd.crosstab(df['IncomeGroup'], df['Attrition'], normalize='index') * 100"
   ]
  },
  {
   "cell_type": "markdown",
   "id": "bfd46c71",
   "metadata": {},
   "source": [
    "#### 6.1.7. Visualização"
   ]
  },
  {
   "cell_type": "code",
   "execution_count": 185,
   "id": "90e29070",
   "metadata": {},
   "outputs": [
    {
     "data": {
      "image/png": "[encoded data removed]",
      "text/plain": [
       "<Figure size 1800x800 with 6 Axes>"
      ]
     },
     "metadata": {},
     "output_type": "display_data"
    }
   ],
   "source": [
    "# Lista de variáveis categóricas\n",
    "categorical_cols = ['BusinessTravel', 'Department',\n",
    "                    'JobRole', 'MaritalStatus', \n",
    "                    'IncomeGroup', 'AgeGroup']\n",
    "\n",
    "# Define número de colunas e linhas\n",
    "n_cols = 3\n",
    "n_rows = math.ceil(len(categorical_cols) / n_cols)\n",
    "\n",
    "# Cria a figura\n",
    "fig, axes = plt.subplots(n_rows, n_cols, figsize=(18, n_rows * 4))\n",
    "axes = axes.flatten()\n",
    "\n",
    "# Loop pelas variáveis categóricas\n",
    "for i, col in enumerate(categorical_cols):\n",
    "    sns.countplot(data=df, x=col, hue='Attrition', palette='Blues', ax=axes[i])\n",
    "    axes[i].set_title(f\"Distribuição de Attrition por {col}\", fontsize=12, fontweight=\"bold\")\n",
    "    axes[i].set_xlabel(col)\n",
    "    axes[i].set_ylabel(\"Contagem\")\n",
    "    axes[i].tick_params(axis='x', rotation=45)\n",
    "    axes[i].legend(title='Attrition', labels=['Não', 'Sim'])\n",
    "\n",
    "# Remove eixos extras\n",
    "for j in range(i + 1, len(axes)):\n",
    "    fig.delaxes(axes[j])\n",
    "\n",
    "plt.tight_layout()\n",
    "plt.show()"
   ]
  },
  {
   "cell_type": "code",
   "execution_count": 180,
   "id": "b57a2861",
   "metadata": {},
   "outputs": [
    {
     "data": {
      "image/png": "[encoded data removed]",
      "text/plain": [
       "<Figure size 800x500 with 1 Axes>"
      ]
     },
     "metadata": {},
     "output_type": "display_data"
    }
   ],
   "source": [
    "attrition_by_dept.plot(kind='bar', figsize=(8,5))\n",
    "plt.title('Taxa de Saída por Departamento')\n",
    "plt.ylabel('Proporção de Saídas')\n",
    "plt.xlabel('Departamento')\n",
    "plt.show()"
   ]
  },
  {
   "cell_type": "markdown",
   "id": "07ffa911",
   "metadata": {},
   "source": [
    "Avaliação: quando verificado a taxa de saída por derpartamento, pode ser observado que Human Resources tem um pulo, tendo em vista a proporção de saídas comparada a quantidade de funcionários."
   ]
  }
 ],
 "metadata": {
  "kernelspec": {
   "display_name": ".venv",
   "language": "python",
   "name": "python3"
  },
  "language_info": {
   "codemirror_mode": {
    "name": "ipython",
    "version": 3
   },
   "file_extension": ".py",
   "mimetype": "text/x-python",
   "name": "python",
   "nbconvert_exporter": "python",
   "pygments_lexer": "ipython3",
   "version": "3.13.7"
  }
 },
 "nbformat": 4,
 "nbformat_minor": 5
}
